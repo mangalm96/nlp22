{
  "nbformat": 4,
  "nbformat_minor": 0,
  "metadata": {
    "colab": {
      "name": "HW_5.ipynb",
      "provenance": [],
      "collapsed_sections": []
    },
    "kernelspec": {
      "name": "python3",
      "display_name": "Python 3"
    },
    "language_info": {
      "name": "python"
    },
    "accelerator": "GPU",
    "widgets": {
      "application/vnd.jupyter.widget-state+json": {
        "160aec88923b4d0a921a1f171a30b378": {
          "model_module": "@jupyter-widgets/controls",
          "model_name": "HBoxModel",
          "model_module_version": "1.5.0",
          "state": {
            "_view_name": "HBoxView",
            "_dom_classes": [],
            "_model_name": "HBoxModel",
            "_view_module": "@jupyter-widgets/controls",
            "_model_module_version": "1.5.0",
            "_view_count": null,
            "_view_module_version": "1.5.0",
            "box_style": "",
            "layout": "IPY_MODEL_d7fcb939f0a745d2a572f0d447174185",
            "_model_module": "@jupyter-widgets/controls",
            "children": [
              "IPY_MODEL_d69d5f25d074476088e5066b07dd67f9",
              "IPY_MODEL_96190e7ade4e4a04aedbb86e7d854362",
              "IPY_MODEL_3a37f181070742968086ff264bad4d34"
            ]
          }
        },
        "d7fcb939f0a745d2a572f0d447174185": {
          "model_module": "@jupyter-widgets/base",
          "model_name": "LayoutModel",
          "model_module_version": "1.2.0",
          "state": {
            "_view_name": "LayoutView",
            "grid_template_rows": null,
            "right": null,
            "justify_content": null,
            "_view_module": "@jupyter-widgets/base",
            "overflow": null,
            "_model_module_version": "1.2.0",
            "_view_count": null,
            "flex_flow": null,
            "width": null,
            "min_width": null,
            "border": null,
            "align_items": null,
            "bottom": null,
            "_model_module": "@jupyter-widgets/base",
            "top": null,
            "grid_column": null,
            "overflow_y": null,
            "overflow_x": null,
            "grid_auto_flow": null,
            "grid_area": null,
            "grid_template_columns": null,
            "flex": null,
            "_model_name": "LayoutModel",
            "justify_items": null,
            "grid_row": null,
            "max_height": null,
            "align_content": null,
            "visibility": null,
            "align_self": null,
            "height": null,
            "min_height": null,
            "padding": null,
            "grid_auto_rows": null,
            "grid_gap": null,
            "max_width": null,
            "order": null,
            "_view_module_version": "1.2.0",
            "grid_template_areas": null,
            "object_position": null,
            "object_fit": null,
            "grid_auto_columns": null,
            "margin": null,
            "display": null,
            "left": null
          }
        },
        "d69d5f25d074476088e5066b07dd67f9": {
          "model_module": "@jupyter-widgets/controls",
          "model_name": "HTMLModel",
          "model_module_version": "1.5.0",
          "state": {
            "_view_name": "HTMLView",
            "style": "IPY_MODEL_2ca90d886fc24c34a20f946fac0afb2e",
            "_dom_classes": [],
            "description": "",
            "_model_name": "HTMLModel",
            "placeholder": "​",
            "_view_module": "@jupyter-widgets/controls",
            "_model_module_version": "1.5.0",
            "value": "Downloading: 100%",
            "_view_count": null,
            "_view_module_version": "1.5.0",
            "description_tooltip": null,
            "_model_module": "@jupyter-widgets/controls",
            "layout": "IPY_MODEL_2bde5a5780974040af4c6671e0ff8532"
          }
        },
        "96190e7ade4e4a04aedbb86e7d854362": {
          "model_module": "@jupyter-widgets/controls",
          "model_name": "FloatProgressModel",
          "model_module_version": "1.5.0",
          "state": {
            "_view_name": "ProgressView",
            "style": "IPY_MODEL_a9897030a3b14f278b94df78741c04cf",
            "_dom_classes": [],
            "description": "",
            "_model_name": "FloatProgressModel",
            "bar_style": "success",
            "max": 29,
            "_view_module": "@jupyter-widgets/controls",
            "_model_module_version": "1.5.0",
            "value": 29,
            "_view_count": null,
            "_view_module_version": "1.5.0",
            "orientation": "horizontal",
            "min": 0,
            "description_tooltip": null,
            "_model_module": "@jupyter-widgets/controls",
            "layout": "IPY_MODEL_b8149fb9d0ec48769dcc3bf02aebff5f"
          }
        },
        "3a37f181070742968086ff264bad4d34": {
          "model_module": "@jupyter-widgets/controls",
          "model_name": "HTMLModel",
          "model_module_version": "1.5.0",
          "state": {
            "_view_name": "HTMLView",
            "style": "IPY_MODEL_77cd1ab792934a75815d0003cdab7512",
            "_dom_classes": [],
            "description": "",
            "_model_name": "HTMLModel",
            "placeholder": "​",
            "_view_module": "@jupyter-widgets/controls",
            "_model_module_version": "1.5.0",
            "value": " 29.0/29.0 [00:00&lt;00:00, 578B/s]",
            "_view_count": null,
            "_view_module_version": "1.5.0",
            "description_tooltip": null,
            "_model_module": "@jupyter-widgets/controls",
            "layout": "IPY_MODEL_28ef66f0d89845a591720da6d11af9ad"
          }
        },
        "2ca90d886fc24c34a20f946fac0afb2e": {
          "model_module": "@jupyter-widgets/controls",
          "model_name": "DescriptionStyleModel",
          "model_module_version": "1.5.0",
          "state": {
            "_view_name": "StyleView",
            "_model_name": "DescriptionStyleModel",
            "description_width": "",
            "_view_module": "@jupyter-widgets/base",
            "_model_module_version": "1.5.0",
            "_view_count": null,
            "_view_module_version": "1.2.0",
            "_model_module": "@jupyter-widgets/controls"
          }
        },
        "2bde5a5780974040af4c6671e0ff8532": {
          "model_module": "@jupyter-widgets/base",
          "model_name": "LayoutModel",
          "model_module_version": "1.2.0",
          "state": {
            "_view_name": "LayoutView",
            "grid_template_rows": null,
            "right": null,
            "justify_content": null,
            "_view_module": "@jupyter-widgets/base",
            "overflow": null,
            "_model_module_version": "1.2.0",
            "_view_count": null,
            "flex_flow": null,
            "width": null,
            "min_width": null,
            "border": null,
            "align_items": null,
            "bottom": null,
            "_model_module": "@jupyter-widgets/base",
            "top": null,
            "grid_column": null,
            "overflow_y": null,
            "overflow_x": null,
            "grid_auto_flow": null,
            "grid_area": null,
            "grid_template_columns": null,
            "flex": null,
            "_model_name": "LayoutModel",
            "justify_items": null,
            "grid_row": null,
            "max_height": null,
            "align_content": null,
            "visibility": null,
            "align_self": null,
            "height": null,
            "min_height": null,
            "padding": null,
            "grid_auto_rows": null,
            "grid_gap": null,
            "max_width": null,
            "order": null,
            "_view_module_version": "1.2.0",
            "grid_template_areas": null,
            "object_position": null,
            "object_fit": null,
            "grid_auto_columns": null,
            "margin": null,
            "display": null,
            "left": null
          }
        },
        "a9897030a3b14f278b94df78741c04cf": {
          "model_module": "@jupyter-widgets/controls",
          "model_name": "ProgressStyleModel",
          "model_module_version": "1.5.0",
          "state": {
            "_view_name": "StyleView",
            "_model_name": "ProgressStyleModel",
            "description_width": "",
            "_view_module": "@jupyter-widgets/base",
            "_model_module_version": "1.5.0",
            "_view_count": null,
            "_view_module_version": "1.2.0",
            "bar_color": null,
            "_model_module": "@jupyter-widgets/controls"
          }
        },
        "b8149fb9d0ec48769dcc3bf02aebff5f": {
          "model_module": "@jupyter-widgets/base",
          "model_name": "LayoutModel",
          "model_module_version": "1.2.0",
          "state": {
            "_view_name": "LayoutView",
            "grid_template_rows": null,
            "right": null,
            "justify_content": null,
            "_view_module": "@jupyter-widgets/base",
            "overflow": null,
            "_model_module_version": "1.2.0",
            "_view_count": null,
            "flex_flow": null,
            "width": null,
            "min_width": null,
            "border": null,
            "align_items": null,
            "bottom": null,
            "_model_module": "@jupyter-widgets/base",
            "top": null,
            "grid_column": null,
            "overflow_y": null,
            "overflow_x": null,
            "grid_auto_flow": null,
            "grid_area": null,
            "grid_template_columns": null,
            "flex": null,
            "_model_name": "LayoutModel",
            "justify_items": null,
            "grid_row": null,
            "max_height": null,
            "align_content": null,
            "visibility": null,
            "align_self": null,
            "height": null,
            "min_height": null,
            "padding": null,
            "grid_auto_rows": null,
            "grid_gap": null,
            "max_width": null,
            "order": null,
            "_view_module_version": "1.2.0",
            "grid_template_areas": null,
            "object_position": null,
            "object_fit": null,
            "grid_auto_columns": null,
            "margin": null,
            "display": null,
            "left": null
          }
        },
        "77cd1ab792934a75815d0003cdab7512": {
          "model_module": "@jupyter-widgets/controls",
          "model_name": "DescriptionStyleModel",
          "model_module_version": "1.5.0",
          "state": {
            "_view_name": "StyleView",
            "_model_name": "DescriptionStyleModel",
            "description_width": "",
            "_view_module": "@jupyter-widgets/base",
            "_model_module_version": "1.5.0",
            "_view_count": null,
            "_view_module_version": "1.2.0",
            "_model_module": "@jupyter-widgets/controls"
          }
        },
        "28ef66f0d89845a591720da6d11af9ad": {
          "model_module": "@jupyter-widgets/base",
          "model_name": "LayoutModel",
          "model_module_version": "1.2.0",
          "state": {
            "_view_name": "LayoutView",
            "grid_template_rows": null,
            "right": null,
            "justify_content": null,
            "_view_module": "@jupyter-widgets/base",
            "overflow": null,
            "_model_module_version": "1.2.0",
            "_view_count": null,
            "flex_flow": null,
            "width": null,
            "min_width": null,
            "border": null,
            "align_items": null,
            "bottom": null,
            "_model_module": "@jupyter-widgets/base",
            "top": null,
            "grid_column": null,
            "overflow_y": null,
            "overflow_x": null,
            "grid_auto_flow": null,
            "grid_area": null,
            "grid_template_columns": null,
            "flex": null,
            "_model_name": "LayoutModel",
            "justify_items": null,
            "grid_row": null,
            "max_height": null,
            "align_content": null,
            "visibility": null,
            "align_self": null,
            "height": null,
            "min_height": null,
            "padding": null,
            "grid_auto_rows": null,
            "grid_gap": null,
            "max_width": null,
            "order": null,
            "_view_module_version": "1.2.0",
            "grid_template_areas": null,
            "object_position": null,
            "object_fit": null,
            "grid_auto_columns": null,
            "margin": null,
            "display": null,
            "left": null
          }
        },
        "bb386186126b4ba7b335b4ac0c942239": {
          "model_module": "@jupyter-widgets/controls",
          "model_name": "HBoxModel",
          "model_module_version": "1.5.0",
          "state": {
            "_view_name": "HBoxView",
            "_dom_classes": [],
            "_model_name": "HBoxModel",
            "_view_module": "@jupyter-widgets/controls",
            "_model_module_version": "1.5.0",
            "_view_count": null,
            "_view_module_version": "1.5.0",
            "box_style": "",
            "layout": "IPY_MODEL_7b5b0c9baaca4dba9954e8e5b1205a92",
            "_model_module": "@jupyter-widgets/controls",
            "children": [
              "IPY_MODEL_d2fbc8a1144c4b159ccee1c745b1b99d",
              "IPY_MODEL_4fb6c6d2c1374fda8558bec9b1805f25",
              "IPY_MODEL_4a1970ebbb394493bcdd949448c0e306"
            ]
          }
        },
        "7b5b0c9baaca4dba9954e8e5b1205a92": {
          "model_module": "@jupyter-widgets/base",
          "model_name": "LayoutModel",
          "model_module_version": "1.2.0",
          "state": {
            "_view_name": "LayoutView",
            "grid_template_rows": null,
            "right": null,
            "justify_content": null,
            "_view_module": "@jupyter-widgets/base",
            "overflow": null,
            "_model_module_version": "1.2.0",
            "_view_count": null,
            "flex_flow": null,
            "width": null,
            "min_width": null,
            "border": null,
            "align_items": null,
            "bottom": null,
            "_model_module": "@jupyter-widgets/base",
            "top": null,
            "grid_column": null,
            "overflow_y": null,
            "overflow_x": null,
            "grid_auto_flow": null,
            "grid_area": null,
            "grid_template_columns": null,
            "flex": null,
            "_model_name": "LayoutModel",
            "justify_items": null,
            "grid_row": null,
            "max_height": null,
            "align_content": null,
            "visibility": null,
            "align_self": null,
            "height": null,
            "min_height": null,
            "padding": null,
            "grid_auto_rows": null,
            "grid_gap": null,
            "max_width": null,
            "order": null,
            "_view_module_version": "1.2.0",
            "grid_template_areas": null,
            "object_position": null,
            "object_fit": null,
            "grid_auto_columns": null,
            "margin": null,
            "display": null,
            "left": null
          }
        },
        "d2fbc8a1144c4b159ccee1c745b1b99d": {
          "model_module": "@jupyter-widgets/controls",
          "model_name": "HTMLModel",
          "model_module_version": "1.5.0",
          "state": {
            "_view_name": "HTMLView",
            "style": "IPY_MODEL_431ab9ce937a4193b5ab350f33268c7d",
            "_dom_classes": [],
            "description": "",
            "_model_name": "HTMLModel",
            "placeholder": "​",
            "_view_module": "@jupyter-widgets/controls",
            "_model_module_version": "1.5.0",
            "value": "Downloading: 100%",
            "_view_count": null,
            "_view_module_version": "1.5.0",
            "description_tooltip": null,
            "_model_module": "@jupyter-widgets/controls",
            "layout": "IPY_MODEL_c53cf2fce71e4af195f40819e247a9ff"
          }
        },
        "4fb6c6d2c1374fda8558bec9b1805f25": {
          "model_module": "@jupyter-widgets/controls",
          "model_name": "FloatProgressModel",
          "model_module_version": "1.5.0",
          "state": {
            "_view_name": "ProgressView",
            "style": "IPY_MODEL_3e183617a9cc491784f9ede9abb19cdf",
            "_dom_classes": [],
            "description": "",
            "_model_name": "FloatProgressModel",
            "bar_style": "success",
            "max": 213450,
            "_view_module": "@jupyter-widgets/controls",
            "_model_module_version": "1.5.0",
            "value": 213450,
            "_view_count": null,
            "_view_module_version": "1.5.0",
            "orientation": "horizontal",
            "min": 0,
            "description_tooltip": null,
            "_model_module": "@jupyter-widgets/controls",
            "layout": "IPY_MODEL_9583f86458b446768fa2bcef4ea5fa95"
          }
        },
        "4a1970ebbb394493bcdd949448c0e306": {
          "model_module": "@jupyter-widgets/controls",
          "model_name": "HTMLModel",
          "model_module_version": "1.5.0",
          "state": {
            "_view_name": "HTMLView",
            "style": "IPY_MODEL_240287e7df814c38a67d88ee6ea2b59a",
            "_dom_classes": [],
            "description": "",
            "_model_name": "HTMLModel",
            "placeholder": "​",
            "_view_module": "@jupyter-widgets/controls",
            "_model_module_version": "1.5.0",
            "value": " 208k/208k [00:00&lt;00:00, 1.52MB/s]",
            "_view_count": null,
            "_view_module_version": "1.5.0",
            "description_tooltip": null,
            "_model_module": "@jupyter-widgets/controls",
            "layout": "IPY_MODEL_3318119bcb7f4cc7866e5268d82c76b3"
          }
        },
        "431ab9ce937a4193b5ab350f33268c7d": {
          "model_module": "@jupyter-widgets/controls",
          "model_name": "DescriptionStyleModel",
          "model_module_version": "1.5.0",
          "state": {
            "_view_name": "StyleView",
            "_model_name": "DescriptionStyleModel",
            "description_width": "",
            "_view_module": "@jupyter-widgets/base",
            "_model_module_version": "1.5.0",
            "_view_count": null,
            "_view_module_version": "1.2.0",
            "_model_module": "@jupyter-widgets/controls"
          }
        },
        "c53cf2fce71e4af195f40819e247a9ff": {
          "model_module": "@jupyter-widgets/base",
          "model_name": "LayoutModel",
          "model_module_version": "1.2.0",
          "state": {
            "_view_name": "LayoutView",
            "grid_template_rows": null,
            "right": null,
            "justify_content": null,
            "_view_module": "@jupyter-widgets/base",
            "overflow": null,
            "_model_module_version": "1.2.0",
            "_view_count": null,
            "flex_flow": null,
            "width": null,
            "min_width": null,
            "border": null,
            "align_items": null,
            "bottom": null,
            "_model_module": "@jupyter-widgets/base",
            "top": null,
            "grid_column": null,
            "overflow_y": null,
            "overflow_x": null,
            "grid_auto_flow": null,
            "grid_area": null,
            "grid_template_columns": null,
            "flex": null,
            "_model_name": "LayoutModel",
            "justify_items": null,
            "grid_row": null,
            "max_height": null,
            "align_content": null,
            "visibility": null,
            "align_self": null,
            "height": null,
            "min_height": null,
            "padding": null,
            "grid_auto_rows": null,
            "grid_gap": null,
            "max_width": null,
            "order": null,
            "_view_module_version": "1.2.0",
            "grid_template_areas": null,
            "object_position": null,
            "object_fit": null,
            "grid_auto_columns": null,
            "margin": null,
            "display": null,
            "left": null
          }
        },
        "3e183617a9cc491784f9ede9abb19cdf": {
          "model_module": "@jupyter-widgets/controls",
          "model_name": "ProgressStyleModel",
          "model_module_version": "1.5.0",
          "state": {
            "_view_name": "StyleView",
            "_model_name": "ProgressStyleModel",
            "description_width": "",
            "_view_module": "@jupyter-widgets/base",
            "_model_module_version": "1.5.0",
            "_view_count": null,
            "_view_module_version": "1.2.0",
            "bar_color": null,
            "_model_module": "@jupyter-widgets/controls"
          }
        },
        "9583f86458b446768fa2bcef4ea5fa95": {
          "model_module": "@jupyter-widgets/base",
          "model_name": "LayoutModel",
          "model_module_version": "1.2.0",
          "state": {
            "_view_name": "LayoutView",
            "grid_template_rows": null,
            "right": null,
            "justify_content": null,
            "_view_module": "@jupyter-widgets/base",
            "overflow": null,
            "_model_module_version": "1.2.0",
            "_view_count": null,
            "flex_flow": null,
            "width": null,
            "min_width": null,
            "border": null,
            "align_items": null,
            "bottom": null,
            "_model_module": "@jupyter-widgets/base",
            "top": null,
            "grid_column": null,
            "overflow_y": null,
            "overflow_x": null,
            "grid_auto_flow": null,
            "grid_area": null,
            "grid_template_columns": null,
            "flex": null,
            "_model_name": "LayoutModel",
            "justify_items": null,
            "grid_row": null,
            "max_height": null,
            "align_content": null,
            "visibility": null,
            "align_self": null,
            "height": null,
            "min_height": null,
            "padding": null,
            "grid_auto_rows": null,
            "grid_gap": null,
            "max_width": null,
            "order": null,
            "_view_module_version": "1.2.0",
            "grid_template_areas": null,
            "object_position": null,
            "object_fit": null,
            "grid_auto_columns": null,
            "margin": null,
            "display": null,
            "left": null
          }
        },
        "240287e7df814c38a67d88ee6ea2b59a": {
          "model_module": "@jupyter-widgets/controls",
          "model_name": "DescriptionStyleModel",
          "model_module_version": "1.5.0",
          "state": {
            "_view_name": "StyleView",
            "_model_name": "DescriptionStyleModel",
            "description_width": "",
            "_view_module": "@jupyter-widgets/base",
            "_model_module_version": "1.5.0",
            "_view_count": null,
            "_view_module_version": "1.2.0",
            "_model_module": "@jupyter-widgets/controls"
          }
        },
        "3318119bcb7f4cc7866e5268d82c76b3": {
          "model_module": "@jupyter-widgets/base",
          "model_name": "LayoutModel",
          "model_module_version": "1.2.0",
          "state": {
            "_view_name": "LayoutView",
            "grid_template_rows": null,
            "right": null,
            "justify_content": null,
            "_view_module": "@jupyter-widgets/base",
            "overflow": null,
            "_model_module_version": "1.2.0",
            "_view_count": null,
            "flex_flow": null,
            "width": null,
            "min_width": null,
            "border": null,
            "align_items": null,
            "bottom": null,
            "_model_module": "@jupyter-widgets/base",
            "top": null,
            "grid_column": null,
            "overflow_y": null,
            "overflow_x": null,
            "grid_auto_flow": null,
            "grid_area": null,
            "grid_template_columns": null,
            "flex": null,
            "_model_name": "LayoutModel",
            "justify_items": null,
            "grid_row": null,
            "max_height": null,
            "align_content": null,
            "visibility": null,
            "align_self": null,
            "height": null,
            "min_height": null,
            "padding": null,
            "grid_auto_rows": null,
            "grid_gap": null,
            "max_width": null,
            "order": null,
            "_view_module_version": "1.2.0",
            "grid_template_areas": null,
            "object_position": null,
            "object_fit": null,
            "grid_auto_columns": null,
            "margin": null,
            "display": null,
            "left": null
          }
        },
        "0cd6b6bfaaed4d7a8461cfadb255c0c5": {
          "model_module": "@jupyter-widgets/controls",
          "model_name": "HBoxModel",
          "model_module_version": "1.5.0",
          "state": {
            "_view_name": "HBoxView",
            "_dom_classes": [],
            "_model_name": "HBoxModel",
            "_view_module": "@jupyter-widgets/controls",
            "_model_module_version": "1.5.0",
            "_view_count": null,
            "_view_module_version": "1.5.0",
            "box_style": "",
            "layout": "IPY_MODEL_b198068c817f446c8716bc2d128e73c7",
            "_model_module": "@jupyter-widgets/controls",
            "children": [
              "IPY_MODEL_4156e6527a3040c381a67029445c945c",
              "IPY_MODEL_8b1fb7e163f24a4c9e5360893acc24fb",
              "IPY_MODEL_42eaa4cee7a84755b4f7c05dbd0b6bc0"
            ]
          }
        },
        "b198068c817f446c8716bc2d128e73c7": {
          "model_module": "@jupyter-widgets/base",
          "model_name": "LayoutModel",
          "model_module_version": "1.2.0",
          "state": {
            "_view_name": "LayoutView",
            "grid_template_rows": null,
            "right": null,
            "justify_content": null,
            "_view_module": "@jupyter-widgets/base",
            "overflow": null,
            "_model_module_version": "1.2.0",
            "_view_count": null,
            "flex_flow": null,
            "width": null,
            "min_width": null,
            "border": null,
            "align_items": null,
            "bottom": null,
            "_model_module": "@jupyter-widgets/base",
            "top": null,
            "grid_column": null,
            "overflow_y": null,
            "overflow_x": null,
            "grid_auto_flow": null,
            "grid_area": null,
            "grid_template_columns": null,
            "flex": null,
            "_model_name": "LayoutModel",
            "justify_items": null,
            "grid_row": null,
            "max_height": null,
            "align_content": null,
            "visibility": null,
            "align_self": null,
            "height": null,
            "min_height": null,
            "padding": null,
            "grid_auto_rows": null,
            "grid_gap": null,
            "max_width": null,
            "order": null,
            "_view_module_version": "1.2.0",
            "grid_template_areas": null,
            "object_position": null,
            "object_fit": null,
            "grid_auto_columns": null,
            "margin": null,
            "display": null,
            "left": null
          }
        },
        "4156e6527a3040c381a67029445c945c": {
          "model_module": "@jupyter-widgets/controls",
          "model_name": "HTMLModel",
          "model_module_version": "1.5.0",
          "state": {
            "_view_name": "HTMLView",
            "style": "IPY_MODEL_76d416b1163940a8bfd75d76b9083a2e",
            "_dom_classes": [],
            "description": "",
            "_model_name": "HTMLModel",
            "placeholder": "​",
            "_view_module": "@jupyter-widgets/controls",
            "_model_module_version": "1.5.0",
            "value": "Downloading: 100%",
            "_view_count": null,
            "_view_module_version": "1.5.0",
            "description_tooltip": null,
            "_model_module": "@jupyter-widgets/controls",
            "layout": "IPY_MODEL_4b315f670273454fb0d2002bba730d31"
          }
        },
        "8b1fb7e163f24a4c9e5360893acc24fb": {
          "model_module": "@jupyter-widgets/controls",
          "model_name": "FloatProgressModel",
          "model_module_version": "1.5.0",
          "state": {
            "_view_name": "ProgressView",
            "style": "IPY_MODEL_cfedf7e2be434b3ba1865a0246515791",
            "_dom_classes": [],
            "description": "",
            "_model_name": "FloatProgressModel",
            "bar_style": "success",
            "max": 435797,
            "_view_module": "@jupyter-widgets/controls",
            "_model_module_version": "1.5.0",
            "value": 435797,
            "_view_count": null,
            "_view_module_version": "1.5.0",
            "orientation": "horizontal",
            "min": 0,
            "description_tooltip": null,
            "_model_module": "@jupyter-widgets/controls",
            "layout": "IPY_MODEL_e094c7dd2605429893caae7d90888800"
          }
        },
        "42eaa4cee7a84755b4f7c05dbd0b6bc0": {
          "model_module": "@jupyter-widgets/controls",
          "model_name": "HTMLModel",
          "model_module_version": "1.5.0",
          "state": {
            "_view_name": "HTMLView",
            "style": "IPY_MODEL_606c1c077c8e41f1ad0f5a32191cd865",
            "_dom_classes": [],
            "description": "",
            "_model_name": "HTMLModel",
            "placeholder": "​",
            "_view_module": "@jupyter-widgets/controls",
            "_model_module_version": "1.5.0",
            "value": " 426k/426k [00:00&lt;00:00, 1.14MB/s]",
            "_view_count": null,
            "_view_module_version": "1.5.0",
            "description_tooltip": null,
            "_model_module": "@jupyter-widgets/controls",
            "layout": "IPY_MODEL_3629611a87e342a4804a21404863beb0"
          }
        },
        "76d416b1163940a8bfd75d76b9083a2e": {
          "model_module": "@jupyter-widgets/controls",
          "model_name": "DescriptionStyleModel",
          "model_module_version": "1.5.0",
          "state": {
            "_view_name": "StyleView",
            "_model_name": "DescriptionStyleModel",
            "description_width": "",
            "_view_module": "@jupyter-widgets/base",
            "_model_module_version": "1.5.0",
            "_view_count": null,
            "_view_module_version": "1.2.0",
            "_model_module": "@jupyter-widgets/controls"
          }
        },
        "4b315f670273454fb0d2002bba730d31": {
          "model_module": "@jupyter-widgets/base",
          "model_name": "LayoutModel",
          "model_module_version": "1.2.0",
          "state": {
            "_view_name": "LayoutView",
            "grid_template_rows": null,
            "right": null,
            "justify_content": null,
            "_view_module": "@jupyter-widgets/base",
            "overflow": null,
            "_model_module_version": "1.2.0",
            "_view_count": null,
            "flex_flow": null,
            "width": null,
            "min_width": null,
            "border": null,
            "align_items": null,
            "bottom": null,
            "_model_module": "@jupyter-widgets/base",
            "top": null,
            "grid_column": null,
            "overflow_y": null,
            "overflow_x": null,
            "grid_auto_flow": null,
            "grid_area": null,
            "grid_template_columns": null,
            "flex": null,
            "_model_name": "LayoutModel",
            "justify_items": null,
            "grid_row": null,
            "max_height": null,
            "align_content": null,
            "visibility": null,
            "align_self": null,
            "height": null,
            "min_height": null,
            "padding": null,
            "grid_auto_rows": null,
            "grid_gap": null,
            "max_width": null,
            "order": null,
            "_view_module_version": "1.2.0",
            "grid_template_areas": null,
            "object_position": null,
            "object_fit": null,
            "grid_auto_columns": null,
            "margin": null,
            "display": null,
            "left": null
          }
        },
        "cfedf7e2be434b3ba1865a0246515791": {
          "model_module": "@jupyter-widgets/controls",
          "model_name": "ProgressStyleModel",
          "model_module_version": "1.5.0",
          "state": {
            "_view_name": "StyleView",
            "_model_name": "ProgressStyleModel",
            "description_width": "",
            "_view_module": "@jupyter-widgets/base",
            "_model_module_version": "1.5.0",
            "_view_count": null,
            "_view_module_version": "1.2.0",
            "bar_color": null,
            "_model_module": "@jupyter-widgets/controls"
          }
        },
        "e094c7dd2605429893caae7d90888800": {
          "model_module": "@jupyter-widgets/base",
          "model_name": "LayoutModel",
          "model_module_version": "1.2.0",
          "state": {
            "_view_name": "LayoutView",
            "grid_template_rows": null,
            "right": null,
            "justify_content": null,
            "_view_module": "@jupyter-widgets/base",
            "overflow": null,
            "_model_module_version": "1.2.0",
            "_view_count": null,
            "flex_flow": null,
            "width": null,
            "min_width": null,
            "border": null,
            "align_items": null,
            "bottom": null,
            "_model_module": "@jupyter-widgets/base",
            "top": null,
            "grid_column": null,
            "overflow_y": null,
            "overflow_x": null,
            "grid_auto_flow": null,
            "grid_area": null,
            "grid_template_columns": null,
            "flex": null,
            "_model_name": "LayoutModel",
            "justify_items": null,
            "grid_row": null,
            "max_height": null,
            "align_content": null,
            "visibility": null,
            "align_self": null,
            "height": null,
            "min_height": null,
            "padding": null,
            "grid_auto_rows": null,
            "grid_gap": null,
            "max_width": null,
            "order": null,
            "_view_module_version": "1.2.0",
            "grid_template_areas": null,
            "object_position": null,
            "object_fit": null,
            "grid_auto_columns": null,
            "margin": null,
            "display": null,
            "left": null
          }
        },
        "606c1c077c8e41f1ad0f5a32191cd865": {
          "model_module": "@jupyter-widgets/controls",
          "model_name": "DescriptionStyleModel",
          "model_module_version": "1.5.0",
          "state": {
            "_view_name": "StyleView",
            "_model_name": "DescriptionStyleModel",
            "description_width": "",
            "_view_module": "@jupyter-widgets/base",
            "_model_module_version": "1.5.0",
            "_view_count": null,
            "_view_module_version": "1.2.0",
            "_model_module": "@jupyter-widgets/controls"
          }
        },
        "3629611a87e342a4804a21404863beb0": {
          "model_module": "@jupyter-widgets/base",
          "model_name": "LayoutModel",
          "model_module_version": "1.2.0",
          "state": {
            "_view_name": "LayoutView",
            "grid_template_rows": null,
            "right": null,
            "justify_content": null,
            "_view_module": "@jupyter-widgets/base",
            "overflow": null,
            "_model_module_version": "1.2.0",
            "_view_count": null,
            "flex_flow": null,
            "width": null,
            "min_width": null,
            "border": null,
            "align_items": null,
            "bottom": null,
            "_model_module": "@jupyter-widgets/base",
            "top": null,
            "grid_column": null,
            "overflow_y": null,
            "overflow_x": null,
            "grid_auto_flow": null,
            "grid_area": null,
            "grid_template_columns": null,
            "flex": null,
            "_model_name": "LayoutModel",
            "justify_items": null,
            "grid_row": null,
            "max_height": null,
            "align_content": null,
            "visibility": null,
            "align_self": null,
            "height": null,
            "min_height": null,
            "padding": null,
            "grid_auto_rows": null,
            "grid_gap": null,
            "max_width": null,
            "order": null,
            "_view_module_version": "1.2.0",
            "grid_template_areas": null,
            "object_position": null,
            "object_fit": null,
            "grid_auto_columns": null,
            "margin": null,
            "display": null,
            "left": null
          }
        },
        "4786b81ba9704322809413d1126a5087": {
          "model_module": "@jupyter-widgets/controls",
          "model_name": "HBoxModel",
          "model_module_version": "1.5.0",
          "state": {
            "_view_name": "HBoxView",
            "_dom_classes": [],
            "_model_name": "HBoxModel",
            "_view_module": "@jupyter-widgets/controls",
            "_model_module_version": "1.5.0",
            "_view_count": null,
            "_view_module_version": "1.5.0",
            "box_style": "",
            "layout": "IPY_MODEL_a77292558dc44510a7785723159ffc8e",
            "_model_module": "@jupyter-widgets/controls",
            "children": [
              "IPY_MODEL_6c9985dad13c4c0dabe85b9686c89a3a",
              "IPY_MODEL_d3a04c7edebd4a948ec35387d09d5760",
              "IPY_MODEL_dbf2d1a0d8504c87adc0e28d9e92bc12"
            ]
          }
        },
        "a77292558dc44510a7785723159ffc8e": {
          "model_module": "@jupyter-widgets/base",
          "model_name": "LayoutModel",
          "model_module_version": "1.2.0",
          "state": {
            "_view_name": "LayoutView",
            "grid_template_rows": null,
            "right": null,
            "justify_content": null,
            "_view_module": "@jupyter-widgets/base",
            "overflow": null,
            "_model_module_version": "1.2.0",
            "_view_count": null,
            "flex_flow": null,
            "width": null,
            "min_width": null,
            "border": null,
            "align_items": null,
            "bottom": null,
            "_model_module": "@jupyter-widgets/base",
            "top": null,
            "grid_column": null,
            "overflow_y": null,
            "overflow_x": null,
            "grid_auto_flow": null,
            "grid_area": null,
            "grid_template_columns": null,
            "flex": null,
            "_model_name": "LayoutModel",
            "justify_items": null,
            "grid_row": null,
            "max_height": null,
            "align_content": null,
            "visibility": null,
            "align_self": null,
            "height": null,
            "min_height": null,
            "padding": null,
            "grid_auto_rows": null,
            "grid_gap": null,
            "max_width": null,
            "order": null,
            "_view_module_version": "1.2.0",
            "grid_template_areas": null,
            "object_position": null,
            "object_fit": null,
            "grid_auto_columns": null,
            "margin": null,
            "display": null,
            "left": null
          }
        },
        "6c9985dad13c4c0dabe85b9686c89a3a": {
          "model_module": "@jupyter-widgets/controls",
          "model_name": "HTMLModel",
          "model_module_version": "1.5.0",
          "state": {
            "_view_name": "HTMLView",
            "style": "IPY_MODEL_63679df3becb4afcb6d9a7fff6b7c263",
            "_dom_classes": [],
            "description": "",
            "_model_name": "HTMLModel",
            "placeholder": "​",
            "_view_module": "@jupyter-widgets/controls",
            "_model_module_version": "1.5.0",
            "value": "Downloading: 100%",
            "_view_count": null,
            "_view_module_version": "1.5.0",
            "description_tooltip": null,
            "_model_module": "@jupyter-widgets/controls",
            "layout": "IPY_MODEL_c94f7f6b435646cbbaaaa85cb43a357a"
          }
        },
        "d3a04c7edebd4a948ec35387d09d5760": {
          "model_module": "@jupyter-widgets/controls",
          "model_name": "FloatProgressModel",
          "model_module_version": "1.5.0",
          "state": {
            "_view_name": "ProgressView",
            "style": "IPY_MODEL_b3a07aa1c5504ce6914ccdecb8e52035",
            "_dom_classes": [],
            "description": "",
            "_model_name": "FloatProgressModel",
            "bar_style": "success",
            "max": 570,
            "_view_module": "@jupyter-widgets/controls",
            "_model_module_version": "1.5.0",
            "value": 570,
            "_view_count": null,
            "_view_module_version": "1.5.0",
            "orientation": "horizontal",
            "min": 0,
            "description_tooltip": null,
            "_model_module": "@jupyter-widgets/controls",
            "layout": "IPY_MODEL_f3659b7ee7894de3864985991d8573ac"
          }
        },
        "dbf2d1a0d8504c87adc0e28d9e92bc12": {
          "model_module": "@jupyter-widgets/controls",
          "model_name": "HTMLModel",
          "model_module_version": "1.5.0",
          "state": {
            "_view_name": "HTMLView",
            "style": "IPY_MODEL_f8d9478ed5b046bebc53220031a27297",
            "_dom_classes": [],
            "description": "",
            "_model_name": "HTMLModel",
            "placeholder": "​",
            "_view_module": "@jupyter-widgets/controls",
            "_model_module_version": "1.5.0",
            "value": " 570/570 [00:00&lt;00:00, 12.9kB/s]",
            "_view_count": null,
            "_view_module_version": "1.5.0",
            "description_tooltip": null,
            "_model_module": "@jupyter-widgets/controls",
            "layout": "IPY_MODEL_6039009e450d4cdba76fdad308b71552"
          }
        },
        "63679df3becb4afcb6d9a7fff6b7c263": {
          "model_module": "@jupyter-widgets/controls",
          "model_name": "DescriptionStyleModel",
          "model_module_version": "1.5.0",
          "state": {
            "_view_name": "StyleView",
            "_model_name": "DescriptionStyleModel",
            "description_width": "",
            "_view_module": "@jupyter-widgets/base",
            "_model_module_version": "1.5.0",
            "_view_count": null,
            "_view_module_version": "1.2.0",
            "_model_module": "@jupyter-widgets/controls"
          }
        },
        "c94f7f6b435646cbbaaaa85cb43a357a": {
          "model_module": "@jupyter-widgets/base",
          "model_name": "LayoutModel",
          "model_module_version": "1.2.0",
          "state": {
            "_view_name": "LayoutView",
            "grid_template_rows": null,
            "right": null,
            "justify_content": null,
            "_view_module": "@jupyter-widgets/base",
            "overflow": null,
            "_model_module_version": "1.2.0",
            "_view_count": null,
            "flex_flow": null,
            "width": null,
            "min_width": null,
            "border": null,
            "align_items": null,
            "bottom": null,
            "_model_module": "@jupyter-widgets/base",
            "top": null,
            "grid_column": null,
            "overflow_y": null,
            "overflow_x": null,
            "grid_auto_flow": null,
            "grid_area": null,
            "grid_template_columns": null,
            "flex": null,
            "_model_name": "LayoutModel",
            "justify_items": null,
            "grid_row": null,
            "max_height": null,
            "align_content": null,
            "visibility": null,
            "align_self": null,
            "height": null,
            "min_height": null,
            "padding": null,
            "grid_auto_rows": null,
            "grid_gap": null,
            "max_width": null,
            "order": null,
            "_view_module_version": "1.2.0",
            "grid_template_areas": null,
            "object_position": null,
            "object_fit": null,
            "grid_auto_columns": null,
            "margin": null,
            "display": null,
            "left": null
          }
        },
        "b3a07aa1c5504ce6914ccdecb8e52035": {
          "model_module": "@jupyter-widgets/controls",
          "model_name": "ProgressStyleModel",
          "model_module_version": "1.5.0",
          "state": {
            "_view_name": "StyleView",
            "_model_name": "ProgressStyleModel",
            "description_width": "",
            "_view_module": "@jupyter-widgets/base",
            "_model_module_version": "1.5.0",
            "_view_count": null,
            "_view_module_version": "1.2.0",
            "bar_color": null,
            "_model_module": "@jupyter-widgets/controls"
          }
        },
        "f3659b7ee7894de3864985991d8573ac": {
          "model_module": "@jupyter-widgets/base",
          "model_name": "LayoutModel",
          "model_module_version": "1.2.0",
          "state": {
            "_view_name": "LayoutView",
            "grid_template_rows": null,
            "right": null,
            "justify_content": null,
            "_view_module": "@jupyter-widgets/base",
            "overflow": null,
            "_model_module_version": "1.2.0",
            "_view_count": null,
            "flex_flow": null,
            "width": null,
            "min_width": null,
            "border": null,
            "align_items": null,
            "bottom": null,
            "_model_module": "@jupyter-widgets/base",
            "top": null,
            "grid_column": null,
            "overflow_y": null,
            "overflow_x": null,
            "grid_auto_flow": null,
            "grid_area": null,
            "grid_template_columns": null,
            "flex": null,
            "_model_name": "LayoutModel",
            "justify_items": null,
            "grid_row": null,
            "max_height": null,
            "align_content": null,
            "visibility": null,
            "align_self": null,
            "height": null,
            "min_height": null,
            "padding": null,
            "grid_auto_rows": null,
            "grid_gap": null,
            "max_width": null,
            "order": null,
            "_view_module_version": "1.2.0",
            "grid_template_areas": null,
            "object_position": null,
            "object_fit": null,
            "grid_auto_columns": null,
            "margin": null,
            "display": null,
            "left": null
          }
        },
        "f8d9478ed5b046bebc53220031a27297": {
          "model_module": "@jupyter-widgets/controls",
          "model_name": "DescriptionStyleModel",
          "model_module_version": "1.5.0",
          "state": {
            "_view_name": "StyleView",
            "_model_name": "DescriptionStyleModel",
            "description_width": "",
            "_view_module": "@jupyter-widgets/base",
            "_model_module_version": "1.5.0",
            "_view_count": null,
            "_view_module_version": "1.2.0",
            "_model_module": "@jupyter-widgets/controls"
          }
        },
        "6039009e450d4cdba76fdad308b71552": {
          "model_module": "@jupyter-widgets/base",
          "model_name": "LayoutModel",
          "model_module_version": "1.2.0",
          "state": {
            "_view_name": "LayoutView",
            "grid_template_rows": null,
            "right": null,
            "justify_content": null,
            "_view_module": "@jupyter-widgets/base",
            "overflow": null,
            "_model_module_version": "1.2.0",
            "_view_count": null,
            "flex_flow": null,
            "width": null,
            "min_width": null,
            "border": null,
            "align_items": null,
            "bottom": null,
            "_model_module": "@jupyter-widgets/base",
            "top": null,
            "grid_column": null,
            "overflow_y": null,
            "overflow_x": null,
            "grid_auto_flow": null,
            "grid_area": null,
            "grid_template_columns": null,
            "flex": null,
            "_model_name": "LayoutModel",
            "justify_items": null,
            "grid_row": null,
            "max_height": null,
            "align_content": null,
            "visibility": null,
            "align_self": null,
            "height": null,
            "min_height": null,
            "padding": null,
            "grid_auto_rows": null,
            "grid_gap": null,
            "max_width": null,
            "order": null,
            "_view_module_version": "1.2.0",
            "grid_template_areas": null,
            "object_position": null,
            "object_fit": null,
            "grid_auto_columns": null,
            "margin": null,
            "display": null,
            "left": null
          }
        },
        "442f2893eb6e43cda9c4c7888e54a21e": {
          "model_module": "@jupyter-widgets/controls",
          "model_name": "HBoxModel",
          "model_module_version": "1.5.0",
          "state": {
            "_view_name": "HBoxView",
            "_dom_classes": [],
            "_model_name": "HBoxModel",
            "_view_module": "@jupyter-widgets/controls",
            "_model_module_version": "1.5.0",
            "_view_count": null,
            "_view_module_version": "1.5.0",
            "box_style": "",
            "layout": "IPY_MODEL_9bccbe87224844dd98da64082db62ab8",
            "_model_module": "@jupyter-widgets/controls",
            "children": [
              "IPY_MODEL_c8c2cb3d92624d88aa70cae0eae456a1",
              "IPY_MODEL_53fbe8c16e0442d69aaaa14e916c6bbe",
              "IPY_MODEL_4b077bc3f8534c548ae15a00967c1043"
            ]
          }
        },
        "9bccbe87224844dd98da64082db62ab8": {
          "model_module": "@jupyter-widgets/base",
          "model_name": "LayoutModel",
          "model_module_version": "1.2.0",
          "state": {
            "_view_name": "LayoutView",
            "grid_template_rows": null,
            "right": null,
            "justify_content": null,
            "_view_module": "@jupyter-widgets/base",
            "overflow": null,
            "_model_module_version": "1.2.0",
            "_view_count": null,
            "flex_flow": null,
            "width": null,
            "min_width": null,
            "border": null,
            "align_items": null,
            "bottom": null,
            "_model_module": "@jupyter-widgets/base",
            "top": null,
            "grid_column": null,
            "overflow_y": null,
            "overflow_x": null,
            "grid_auto_flow": null,
            "grid_area": null,
            "grid_template_columns": null,
            "flex": null,
            "_model_name": "LayoutModel",
            "justify_items": null,
            "grid_row": null,
            "max_height": null,
            "align_content": null,
            "visibility": null,
            "align_self": null,
            "height": null,
            "min_height": null,
            "padding": null,
            "grid_auto_rows": null,
            "grid_gap": null,
            "max_width": null,
            "order": null,
            "_view_module_version": "1.2.0",
            "grid_template_areas": null,
            "object_position": null,
            "object_fit": null,
            "grid_auto_columns": null,
            "margin": null,
            "display": null,
            "left": null
          }
        },
        "c8c2cb3d92624d88aa70cae0eae456a1": {
          "model_module": "@jupyter-widgets/controls",
          "model_name": "HTMLModel",
          "model_module_version": "1.5.0",
          "state": {
            "_view_name": "HTMLView",
            "style": "IPY_MODEL_82d3e155b3024b67a8633edb344b8895",
            "_dom_classes": [],
            "description": "",
            "_model_name": "HTMLModel",
            "placeholder": "​",
            "_view_module": "@jupyter-widgets/controls",
            "_model_module_version": "1.5.0",
            "value": "Downloading: 100%",
            "_view_count": null,
            "_view_module_version": "1.5.0",
            "description_tooltip": null,
            "_model_module": "@jupyter-widgets/controls",
            "layout": "IPY_MODEL_1ce2ed41b06e4409b26e358f0e65a72b"
          }
        },
        "53fbe8c16e0442d69aaaa14e916c6bbe": {
          "model_module": "@jupyter-widgets/controls",
          "model_name": "FloatProgressModel",
          "model_module_version": "1.5.0",
          "state": {
            "_view_name": "ProgressView",
            "style": "IPY_MODEL_c8c0008dd6b446bc99c385667c2a8de7",
            "_dom_classes": [],
            "description": "",
            "_model_name": "FloatProgressModel",
            "bar_style": "success",
            "max": 435779157,
            "_view_module": "@jupyter-widgets/controls",
            "_model_module_version": "1.5.0",
            "value": 435779157,
            "_view_count": null,
            "_view_module_version": "1.5.0",
            "orientation": "horizontal",
            "min": 0,
            "description_tooltip": null,
            "_model_module": "@jupyter-widgets/controls",
            "layout": "IPY_MODEL_6d24c7923c434e2e8cb165e234d12b27"
          }
        },
        "4b077bc3f8534c548ae15a00967c1043": {
          "model_module": "@jupyter-widgets/controls",
          "model_name": "HTMLModel",
          "model_module_version": "1.5.0",
          "state": {
            "_view_name": "HTMLView",
            "style": "IPY_MODEL_0b4bec925fa042a884a1740426117903",
            "_dom_classes": [],
            "description": "",
            "_model_name": "HTMLModel",
            "placeholder": "​",
            "_view_module": "@jupyter-widgets/controls",
            "_model_module_version": "1.5.0",
            "value": " 416M/416M [00:12&lt;00:00, 33.0MB/s]",
            "_view_count": null,
            "_view_module_version": "1.5.0",
            "description_tooltip": null,
            "_model_module": "@jupyter-widgets/controls",
            "layout": "IPY_MODEL_8e116264979543c4988a7cfe578d9fe7"
          }
        },
        "82d3e155b3024b67a8633edb344b8895": {
          "model_module": "@jupyter-widgets/controls",
          "model_name": "DescriptionStyleModel",
          "model_module_version": "1.5.0",
          "state": {
            "_view_name": "StyleView",
            "_model_name": "DescriptionStyleModel",
            "description_width": "",
            "_view_module": "@jupyter-widgets/base",
            "_model_module_version": "1.5.0",
            "_view_count": null,
            "_view_module_version": "1.2.0",
            "_model_module": "@jupyter-widgets/controls"
          }
        },
        "1ce2ed41b06e4409b26e358f0e65a72b": {
          "model_module": "@jupyter-widgets/base",
          "model_name": "LayoutModel",
          "model_module_version": "1.2.0",
          "state": {
            "_view_name": "LayoutView",
            "grid_template_rows": null,
            "right": null,
            "justify_content": null,
            "_view_module": "@jupyter-widgets/base",
            "overflow": null,
            "_model_module_version": "1.2.0",
            "_view_count": null,
            "flex_flow": null,
            "width": null,
            "min_width": null,
            "border": null,
            "align_items": null,
            "bottom": null,
            "_model_module": "@jupyter-widgets/base",
            "top": null,
            "grid_column": null,
            "overflow_y": null,
            "overflow_x": null,
            "grid_auto_flow": null,
            "grid_area": null,
            "grid_template_columns": null,
            "flex": null,
            "_model_name": "LayoutModel",
            "justify_items": null,
            "grid_row": null,
            "max_height": null,
            "align_content": null,
            "visibility": null,
            "align_self": null,
            "height": null,
            "min_height": null,
            "padding": null,
            "grid_auto_rows": null,
            "grid_gap": null,
            "max_width": null,
            "order": null,
            "_view_module_version": "1.2.0",
            "grid_template_areas": null,
            "object_position": null,
            "object_fit": null,
            "grid_auto_columns": null,
            "margin": null,
            "display": null,
            "left": null
          }
        },
        "c8c0008dd6b446bc99c385667c2a8de7": {
          "model_module": "@jupyter-widgets/controls",
          "model_name": "ProgressStyleModel",
          "model_module_version": "1.5.0",
          "state": {
            "_view_name": "StyleView",
            "_model_name": "ProgressStyleModel",
            "description_width": "",
            "_view_module": "@jupyter-widgets/base",
            "_model_module_version": "1.5.0",
            "_view_count": null,
            "_view_module_version": "1.2.0",
            "bar_color": null,
            "_model_module": "@jupyter-widgets/controls"
          }
        },
        "6d24c7923c434e2e8cb165e234d12b27": {
          "model_module": "@jupyter-widgets/base",
          "model_name": "LayoutModel",
          "model_module_version": "1.2.0",
          "state": {
            "_view_name": "LayoutView",
            "grid_template_rows": null,
            "right": null,
            "justify_content": null,
            "_view_module": "@jupyter-widgets/base",
            "overflow": null,
            "_model_module_version": "1.2.0",
            "_view_count": null,
            "flex_flow": null,
            "width": null,
            "min_width": null,
            "border": null,
            "align_items": null,
            "bottom": null,
            "_model_module": "@jupyter-widgets/base",
            "top": null,
            "grid_column": null,
            "overflow_y": null,
            "overflow_x": null,
            "grid_auto_flow": null,
            "grid_area": null,
            "grid_template_columns": null,
            "flex": null,
            "_model_name": "LayoutModel",
            "justify_items": null,
            "grid_row": null,
            "max_height": null,
            "align_content": null,
            "visibility": null,
            "align_self": null,
            "height": null,
            "min_height": null,
            "padding": null,
            "grid_auto_rows": null,
            "grid_gap": null,
            "max_width": null,
            "order": null,
            "_view_module_version": "1.2.0",
            "grid_template_areas": null,
            "object_position": null,
            "object_fit": null,
            "grid_auto_columns": null,
            "margin": null,
            "display": null,
            "left": null
          }
        },
        "0b4bec925fa042a884a1740426117903": {
          "model_module": "@jupyter-widgets/controls",
          "model_name": "DescriptionStyleModel",
          "model_module_version": "1.5.0",
          "state": {
            "_view_name": "StyleView",
            "_model_name": "DescriptionStyleModel",
            "description_width": "",
            "_view_module": "@jupyter-widgets/base",
            "_model_module_version": "1.5.0",
            "_view_count": null,
            "_view_module_version": "1.2.0",
            "_model_module": "@jupyter-widgets/controls"
          }
        },
        "8e116264979543c4988a7cfe578d9fe7": {
          "model_module": "@jupyter-widgets/base",
          "model_name": "LayoutModel",
          "model_module_version": "1.2.0",
          "state": {
            "_view_name": "LayoutView",
            "grid_template_rows": null,
            "right": null,
            "justify_content": null,
            "_view_module": "@jupyter-widgets/base",
            "overflow": null,
            "_model_module_version": "1.2.0",
            "_view_count": null,
            "flex_flow": null,
            "width": null,
            "min_width": null,
            "border": null,
            "align_items": null,
            "bottom": null,
            "_model_module": "@jupyter-widgets/base",
            "top": null,
            "grid_column": null,
            "overflow_y": null,
            "overflow_x": null,
            "grid_auto_flow": null,
            "grid_area": null,
            "grid_template_columns": null,
            "flex": null,
            "_model_name": "LayoutModel",
            "justify_items": null,
            "grid_row": null,
            "max_height": null,
            "align_content": null,
            "visibility": null,
            "align_self": null,
            "height": null,
            "min_height": null,
            "padding": null,
            "grid_auto_rows": null,
            "grid_gap": null,
            "max_width": null,
            "order": null,
            "_view_module_version": "1.2.0",
            "grid_template_areas": null,
            "object_position": null,
            "object_fit": null,
            "grid_auto_columns": null,
            "margin": null,
            "display": null,
            "left": null
          }
        }
      }
    }
  },
  "cells": [
    {
      "cell_type": "markdown",
      "source": [
        "<a href=\"https://colab.research.google.com/github/dbamman/nlp22/blob/main/HW5/HW_5.ipynb\" target=\"_parent\"><img src=\"https://colab.research.google.com/assets/colab-badge.svg\" alt=\"Open In Colab\"/></a>"
      ],
      "metadata": {
        "id": "t848-F03nCxj"
      }
    },
    {
      "cell_type": "markdown",
      "source": [
        "## HW5: Neural Sequence Labeling\n",
        "\n",
        "For this assignment, we'll provide an implementation of BERT and view its performance on **named entity recognition (NER)**. We use a standard NER dataset that adheres to the BIO tagging format discussed in lecture.\n",
        "\n",
        "We ask you to implement:\n",
        "\n",
        "1) a span extraction method, to determine which entities are present in a given piece of text\n",
        "\n",
        "2) a method to calculate F1, which evaluates our model's performance. "
      ],
      "metadata": {
        "id": "VZQvyvkbNbIf"
      }
    },
    {
      "cell_type": "code",
      "source": [
        "# ensure Transformers is installed \n",
        "# https://huggingface.co/docs/transformers/index\n",
        "!pip install transformers"
      ],
      "metadata": {
        "id": "Q6viYVn8znfu",
        "outputId": "672ef879-532e-484a-a724-f7e88be44e07",
        "colab": {
          "base_uri": "https://localhost:8080/"
        }
      },
      "execution_count": 1,
      "outputs": [
        {
          "output_type": "stream",
          "name": "stdout",
          "text": [
            "Collecting transformers\n",
            "  Downloading transformers-4.16.2-py3-none-any.whl (3.5 MB)\n",
            "\u001b[K     |████████████████████████████████| 3.5 MB 5.3 MB/s \n",
            "\u001b[?25hRequirement already satisfied: packaging>=20.0 in /usr/local/lib/python3.7/dist-packages (from transformers) (21.3)\n",
            "Collecting sacremoses\n",
            "  Downloading sacremoses-0.0.47-py2.py3-none-any.whl (895 kB)\n",
            "\u001b[K     |████████████████████████████████| 895 kB 32.9 MB/s \n",
            "\u001b[?25hCollecting huggingface-hub<1.0,>=0.1.0\n",
            "  Downloading huggingface_hub-0.4.0-py3-none-any.whl (67 kB)\n",
            "\u001b[K     |████████████████████████████████| 67 kB 4.9 MB/s \n",
            "\u001b[?25hRequirement already satisfied: tqdm>=4.27 in /usr/local/lib/python3.7/dist-packages (from transformers) (4.62.3)\n",
            "Collecting tokenizers!=0.11.3,>=0.10.1\n",
            "  Downloading tokenizers-0.11.6-cp37-cp37m-manylinux_2_12_x86_64.manylinux2010_x86_64.whl (6.5 MB)\n",
            "\u001b[K     |████████████████████████████████| 6.5 MB 35.9 MB/s \n",
            "\u001b[?25hRequirement already satisfied: numpy>=1.17 in /usr/local/lib/python3.7/dist-packages (from transformers) (1.21.5)\n",
            "Requirement already satisfied: regex!=2019.12.17 in /usr/local/lib/python3.7/dist-packages (from transformers) (2019.12.20)\n",
            "Requirement already satisfied: importlib-metadata in /usr/local/lib/python3.7/dist-packages (from transformers) (4.11.1)\n",
            "Requirement already satisfied: filelock in /usr/local/lib/python3.7/dist-packages (from transformers) (3.6.0)\n",
            "Requirement already satisfied: requests in /usr/local/lib/python3.7/dist-packages (from transformers) (2.23.0)\n",
            "Collecting pyyaml>=5.1\n",
            "  Downloading PyYAML-6.0-cp37-cp37m-manylinux_2_5_x86_64.manylinux1_x86_64.manylinux_2_12_x86_64.manylinux2010_x86_64.whl (596 kB)\n",
            "\u001b[K     |████████████████████████████████| 596 kB 37.0 MB/s \n",
            "\u001b[?25hRequirement already satisfied: typing-extensions>=3.7.4.3 in /usr/local/lib/python3.7/dist-packages (from huggingface-hub<1.0,>=0.1.0->transformers) (3.10.0.2)\n",
            "Requirement already satisfied: pyparsing!=3.0.5,>=2.0.2 in /usr/local/lib/python3.7/dist-packages (from packaging>=20.0->transformers) (3.0.7)\n",
            "Requirement already satisfied: zipp>=0.5 in /usr/local/lib/python3.7/dist-packages (from importlib-metadata->transformers) (3.7.0)\n",
            "Requirement already satisfied: idna<3,>=2.5 in /usr/local/lib/python3.7/dist-packages (from requests->transformers) (2.10)\n",
            "Requirement already satisfied: certifi>=2017.4.17 in /usr/local/lib/python3.7/dist-packages (from requests->transformers) (2021.10.8)\n",
            "Requirement already satisfied: urllib3!=1.25.0,!=1.25.1,<1.26,>=1.21.1 in /usr/local/lib/python3.7/dist-packages (from requests->transformers) (1.24.3)\n",
            "Requirement already satisfied: chardet<4,>=3.0.2 in /usr/local/lib/python3.7/dist-packages (from requests->transformers) (3.0.4)\n",
            "Requirement already satisfied: click in /usr/local/lib/python3.7/dist-packages (from sacremoses->transformers) (7.1.2)\n",
            "Requirement already satisfied: six in /usr/local/lib/python3.7/dist-packages (from sacremoses->transformers) (1.15.0)\n",
            "Requirement already satisfied: joblib in /usr/local/lib/python3.7/dist-packages (from sacremoses->transformers) (1.1.0)\n",
            "Installing collected packages: pyyaml, tokenizers, sacremoses, huggingface-hub, transformers\n",
            "  Attempting uninstall: pyyaml\n",
            "    Found existing installation: PyYAML 3.13\n",
            "    Uninstalling PyYAML-3.13:\n",
            "      Successfully uninstalled PyYAML-3.13\n",
            "Successfully installed huggingface-hub-0.4.0 pyyaml-6.0 sacremoses-0.0.47 tokenizers-0.11.6 transformers-4.16.2\n"
          ]
        }
      ]
    },
    {
      "cell_type": "code",
      "execution_count": 2,
      "metadata": {
        "id": "f6ToJtg5zZBV",
        "outputId": "d2550669-c7bd-41bb-d16f-d9cd488399ce",
        "colab": {
          "base_uri": "https://localhost:8080/"
        }
      },
      "outputs": [
        {
          "output_type": "stream",
          "name": "stdout",
          "text": [
            "[nltk_data] Downloading package punkt to /root/nltk_data...\n",
            "[nltk_data]   Unzipping tokenizers/punkt.zip.\n"
          ]
        }
      ],
      "source": [
        "import sys\n",
        "from transformers import BertModel, BertTokenizer\n",
        "import torch.nn as nn\n",
        "import torch\n",
        "import numpy as np\n",
        "from torch.nn import CrossEntropyLoss\n",
        "import nltk\n",
        "nltk.download('punkt')\n",
        "\n",
        "import tqdm\n",
        "from collections import Counter"
      ]
    },
    {
      "cell_type": "code",
      "source": [
        "device=torch.device(\"cuda\" if torch.cuda.is_available() else \"cpu\")\n",
        "print(device)"
      ],
      "metadata": {
        "id": "aMIanCLEziKV",
        "outputId": "2ce7972c-df69-42cc-e031-404750899b1e",
        "colab": {
          "base_uri": "https://localhost:8080/"
        }
      },
      "execution_count": 3,
      "outputs": [
        {
          "output_type": "stream",
          "name": "stdout",
          "text": [
            "cuda\n"
          ]
        }
      ]
    },
    {
      "cell_type": "markdown",
      "source": [
        "## Intro: Wordpiece Tokenization Exploration\n",
        "\n",
        "To start the notebook, let's explore how BERT tokenizes inputs. There are no deliverables for this portion, but we encourage you to step through these cells to understand what happens when words are inputted into BERT!\n",
        "\n",
        "BERT uses **WordPiece** tokenization, which is a subword tokenzation technique that breaks down words that don't appear within its 30K-word vocabulary into small pieces. The word \"vaccinated\", for instance, is tokenized as `[\"va\", \"##cci\", \"##nated\"]`\n",
        "\n",
        "To explore how BERT tokenizes inputs, let's first load in the [Bert-Base](https://github.com/google-research/bert#bert) model from the [Transformers](https://huggingface.co/docs/transformers/model_doc/bert) library. This call allows us to use a pretrained BERT model (i.e., one that has already gone through the training phase of MLM + NSP discussed in the [2/15 lecture](https://people.ischool.berkeley.edu/~dbamman/nlp22_slides/9_LM_3.pdf)) and use it for whatever tasks we'd like."
      ],
      "metadata": {
        "id": "odVbbdepNmyw"
      }
    },
    {
      "cell_type": "code",
      "source": [
        "tokenizer = BertTokenizer.from_pretrained('bert-base-cased')\n",
        "model = BertModel.from_pretrained('bert-base-cased')"
      ],
      "metadata": {
        "id": "t0ntR1SFNrJQ",
        "outputId": "c3150aa9-887e-43ea-c9e1-310ee7e2c235",
        "colab": {
          "base_uri": "https://localhost:8080/",
          "height": 250,
          "referenced_widgets": [
            "160aec88923b4d0a921a1f171a30b378",
            "d7fcb939f0a745d2a572f0d447174185",
            "d69d5f25d074476088e5066b07dd67f9",
            "96190e7ade4e4a04aedbb86e7d854362",
            "3a37f181070742968086ff264bad4d34",
            "2ca90d886fc24c34a20f946fac0afb2e",
            "2bde5a5780974040af4c6671e0ff8532",
            "a9897030a3b14f278b94df78741c04cf",
            "b8149fb9d0ec48769dcc3bf02aebff5f",
            "77cd1ab792934a75815d0003cdab7512",
            "28ef66f0d89845a591720da6d11af9ad",
            "bb386186126b4ba7b335b4ac0c942239",
            "7b5b0c9baaca4dba9954e8e5b1205a92",
            "d2fbc8a1144c4b159ccee1c745b1b99d",
            "4fb6c6d2c1374fda8558bec9b1805f25",
            "4a1970ebbb394493bcdd949448c0e306",
            "431ab9ce937a4193b5ab350f33268c7d",
            "c53cf2fce71e4af195f40819e247a9ff",
            "3e183617a9cc491784f9ede9abb19cdf",
            "9583f86458b446768fa2bcef4ea5fa95",
            "240287e7df814c38a67d88ee6ea2b59a",
            "3318119bcb7f4cc7866e5268d82c76b3",
            "0cd6b6bfaaed4d7a8461cfadb255c0c5",
            "b198068c817f446c8716bc2d128e73c7",
            "4156e6527a3040c381a67029445c945c",
            "8b1fb7e163f24a4c9e5360893acc24fb",
            "42eaa4cee7a84755b4f7c05dbd0b6bc0",
            "76d416b1163940a8bfd75d76b9083a2e",
            "4b315f670273454fb0d2002bba730d31",
            "cfedf7e2be434b3ba1865a0246515791",
            "e094c7dd2605429893caae7d90888800",
            "606c1c077c8e41f1ad0f5a32191cd865",
            "3629611a87e342a4804a21404863beb0",
            "4786b81ba9704322809413d1126a5087",
            "a77292558dc44510a7785723159ffc8e",
            "6c9985dad13c4c0dabe85b9686c89a3a",
            "d3a04c7edebd4a948ec35387d09d5760",
            "dbf2d1a0d8504c87adc0e28d9e92bc12",
            "63679df3becb4afcb6d9a7fff6b7c263",
            "c94f7f6b435646cbbaaaa85cb43a357a",
            "b3a07aa1c5504ce6914ccdecb8e52035",
            "f3659b7ee7894de3864985991d8573ac",
            "f8d9478ed5b046bebc53220031a27297",
            "6039009e450d4cdba76fdad308b71552",
            "442f2893eb6e43cda9c4c7888e54a21e",
            "9bccbe87224844dd98da64082db62ab8",
            "c8c2cb3d92624d88aa70cae0eae456a1",
            "53fbe8c16e0442d69aaaa14e916c6bbe",
            "4b077bc3f8534c548ae15a00967c1043",
            "82d3e155b3024b67a8633edb344b8895",
            "1ce2ed41b06e4409b26e358f0e65a72b",
            "c8c0008dd6b446bc99c385667c2a8de7",
            "6d24c7923c434e2e8cb165e234d12b27",
            "0b4bec925fa042a884a1740426117903",
            "8e116264979543c4988a7cfe578d9fe7"
          ]
        }
      },
      "execution_count": 4,
      "outputs": [
        {
          "output_type": "display_data",
          "data": {
            "application/vnd.jupyter.widget-view+json": {
              "model_id": "160aec88923b4d0a921a1f171a30b378",
              "version_minor": 0,
              "version_major": 2
            },
            "text/plain": [
              "Downloading:   0%|          | 0.00/29.0 [00:00<?, ?B/s]"
            ]
          },
          "metadata": {}
        },
        {
          "output_type": "display_data",
          "data": {
            "application/vnd.jupyter.widget-view+json": {
              "model_id": "bb386186126b4ba7b335b4ac0c942239",
              "version_minor": 0,
              "version_major": 2
            },
            "text/plain": [
              "Downloading:   0%|          | 0.00/208k [00:00<?, ?B/s]"
            ]
          },
          "metadata": {}
        },
        {
          "output_type": "display_data",
          "data": {
            "application/vnd.jupyter.widget-view+json": {
              "model_id": "0cd6b6bfaaed4d7a8461cfadb255c0c5",
              "version_minor": 0,
              "version_major": 2
            },
            "text/plain": [
              "Downloading:   0%|          | 0.00/426k [00:00<?, ?B/s]"
            ]
          },
          "metadata": {}
        },
        {
          "output_type": "display_data",
          "data": {
            "application/vnd.jupyter.widget-view+json": {
              "model_id": "4786b81ba9704322809413d1126a5087",
              "version_minor": 0,
              "version_major": 2
            },
            "text/plain": [
              "Downloading:   0%|          | 0.00/570 [00:00<?, ?B/s]"
            ]
          },
          "metadata": {}
        },
        {
          "output_type": "display_data",
          "data": {
            "application/vnd.jupyter.widget-view+json": {
              "model_id": "442f2893eb6e43cda9c4c7888e54a21e",
              "version_minor": 0,
              "version_major": 2
            },
            "text/plain": [
              "Downloading:   0%|          | 0.00/416M [00:00<?, ?B/s]"
            ]
          },
          "metadata": {}
        },
        {
          "output_type": "stream",
          "name": "stderr",
          "text": [
            "Some weights of the model checkpoint at bert-base-cased were not used when initializing BertModel: ['cls.seq_relationship.bias', 'cls.predictions.decoder.weight', 'cls.predictions.transform.LayerNorm.bias', 'cls.predictions.transform.dense.bias', 'cls.seq_relationship.weight', 'cls.predictions.bias', 'cls.predictions.transform.LayerNorm.weight', 'cls.predictions.transform.dense.weight']\n",
            "- This IS expected if you are initializing BertModel from the checkpoint of a model trained on another task or with another architecture (e.g. initializing a BertForSequenceClassification model from a BertForPreTraining model).\n",
            "- This IS NOT expected if you are initializing BertModel from the checkpoint of a model that you expect to be exactly identical (initializing a BertForSequenceClassification model from a BertForSequenceClassification model).\n"
          ]
        }
      ]
    },
    {
      "cell_type": "markdown",
      "source": [
        "Let's start with an example sentence:\n",
        "\n",
        "*New data shows 26 states have fully vaccinated more than half their residents.*\n",
        "\n",
        "and see how BERT tokenizes it."
      ],
      "metadata": {
        "id": "Wi5C7EKcN-yC"
      }
    },
    {
      "cell_type": "code",
      "source": [
        "inputs=tokenizer(\"New data shows 26 states have fully vaccinated more than half their residents.\", return_tensors=\"pt\")\n",
        "tokenizer.convert_ids_to_tokens(inputs[\"input_ids\"][0])"
      ],
      "metadata": {
        "id": "P7SrILBAOC9e",
        "outputId": "a287cb36-7fe6-44f7-df42-0493814d5814",
        "colab": {
          "base_uri": "https://localhost:8080/"
        }
      },
      "execution_count": 5,
      "outputs": [
        {
          "output_type": "execute_result",
          "data": {
            "text/plain": [
              "['[CLS]',\n",
              " 'New',\n",
              " 'data',\n",
              " 'shows',\n",
              " '26',\n",
              " 'states',\n",
              " 'have',\n",
              " 'fully',\n",
              " 'v',\n",
              " '##ac',\n",
              " '##cin',\n",
              " '##ated',\n",
              " 'more',\n",
              " 'than',\n",
              " 'half',\n",
              " 'their',\n",
              " 'residents',\n",
              " '.',\n",
              " '[SEP]']"
            ]
          },
          "metadata": {},
          "execution_count": 5
        }
      ]
    },
    {
      "cell_type": "markdown",
      "source": [
        "Note how common words like \"have\" are represented in their entirety, while \"vaccinated\" is broken into 3 different parts. You can also see the reserved start `[CLS]` and ending `[SEP]` tags we discussed in class. BERT will generate representations of each WordPiece token, including these special `[CLS]` and `[SEP]` tags.\n",
        "\n",
        "You can really see the effect of WordPiece when you provide a word that BERT, most likely, never encountered during its training, like *supercalifragilisticexpialidocious*"
      ],
      "metadata": {
        "id": "PXs4bK8kOUNl"
      }
    },
    {
      "cell_type": "code",
      "source": [
        "inputs=tokenizer(\"BERT is supercalifragilisticexpialidocious\", return_tensors=\"pt\")\n",
        "tokenizer.convert_ids_to_tokens(inputs[\"input_ids\"][0])"
      ],
      "metadata": {
        "id": "wnLipoNDOZO8",
        "outputId": "ca8be7de-b0de-4f56-d6bb-2bb462d3dd78",
        "colab": {
          "base_uri": "https://localhost:8080/"
        }
      },
      "execution_count": 6,
      "outputs": [
        {
          "output_type": "execute_result",
          "data": {
            "text/plain": [
              "['[CLS]',\n",
              " 'B',\n",
              " '##ER',\n",
              " '##T',\n",
              " 'is',\n",
              " 'super',\n",
              " '##cal',\n",
              " '##if',\n",
              " '##rag',\n",
              " '##ilis',\n",
              " '##tic',\n",
              " '##ex',\n",
              " '##pia',\n",
              " '##lid',\n",
              " '##oc',\n",
              " '##ious',\n",
              " '[SEP]']"
            ]
          },
          "metadata": {},
          "execution_count": 6
        }
      ]
    },
    {
      "cell_type": "markdown",
      "source": [
        "Now let's work with an example sentence, *This jam is delicious*"
      ],
      "metadata": {
        "id": "m3-QNX34OqTX"
      }
    },
    {
      "cell_type": "code",
      "source": [
        "inputs=tokenizer(\"This jam is delicious\", return_tensors=\"pt\")\n",
        "outputs = model(**inputs)\n",
        "tokenizer.convert_ids_to_tokens(inputs[\"input_ids\"][0])"
      ],
      "metadata": {
        "id": "coimEF6qOl8M",
        "outputId": "08e65c5c-e687-4887-d199-b39256a8757e",
        "colab": {
          "base_uri": "https://localhost:8080/"
        }
      },
      "execution_count": 7,
      "outputs": [
        {
          "output_type": "execute_result",
          "data": {
            "text/plain": [
              "['[CLS]', 'This', 'jam', 'is', 'delicious', '[SEP]']"
            ]
          },
          "metadata": {},
          "execution_count": 7
        }
      ]
    },
    {
      "cell_type": "markdown",
      "source": [
        "Representations for each of BERT layers (12 in this model) are accessible, but let's explore just the outputs from the final layer.  This BERT model has 768-dimensional representations, so this 6-token input (`[CLS, this, jam, is, delicious, [SEP]`) has an output that is is a 1 x 6 tokens x 768 dimensional tensor."
      ],
      "metadata": {
        "id": "G02ivgctOhar"
      }
    },
    {
      "cell_type": "code",
      "source": [
        "last_hidden_states = outputs.last_hidden_state\n",
        "print(outputs.last_hidden_state.shape)"
      ],
      "metadata": {
        "id": "YNMx4kg7O1sy",
        "outputId": "02e48367-d3bc-4a85-be34-07f2944398bb",
        "colab": {
          "base_uri": "https://localhost:8080/"
        }
      },
      "execution_count": 8,
      "outputs": [
        {
          "output_type": "stream",
          "name": "stdout",
          "text": [
            "torch.Size([1, 6, 768])\n"
          ]
        }
      ]
    },
    {
      "cell_type": "markdown",
      "source": [
        "Before we move to using BERT to help us carry out NER (which is, fundamentally, a classification problem), what can we do with just these representations?  \n",
        "\n",
        "While we used word2vec-style static embeddings to find nearest neighbors for word *types*, we can do the same here for word *tokens*."
      ],
      "metadata": {
        "id": "ZnnSdMtTO6eC"
      }
    },
    {
      "cell_type": "code",
      "source": [
        "# this should look familiar!\n",
        "def cosine_similarity(a, b):\n",
        "    return np.dot(a, b)/(np.linalg.norm(a)*np.linalg.norm(b))"
      ],
      "metadata": {
        "id": "QU4jJktdO9u5"
      },
      "execution_count": 9,
      "outputs": []
    },
    {
      "cell_type": "markdown",
      "source": [
        "Let's see how BERT does at answering questions of ambiguity, which is of major concern when carrying out a task like NER (as well as other topics we'll explore later in class like word senses)\n",
        "\n",
        "We'll start with a base sentence:\n",
        "\n",
        "*I ate some jam with toast*\n",
        "\n",
        "that uses the word *jam* in the sense of what you spread onto toast, i.e.\n",
        "\"A conserve of fruit prepared by boiling it with sugar to a pulp.\" ([OED](https://www.oed.com/view/Entry/100680?rskey=v7CKhW&result=2#eid)).\n",
        "\n",
        "Now we'll write a method that extracts the representation BERT uses for a given word in a sentence."
      ],
      "metadata": {
        "id": "7ikiO-7KPAHT"
      }
    },
    {
      "cell_type": "code",
      "source": [
        "def get_bert_for_token(string, term):\n",
        "    \n",
        "    # tokenize\n",
        "    inputs = tokenizer(string, return_tensors=\"pt\")\n",
        "    \n",
        "    # convert input ids to words\n",
        "    tokens=tokenizer.convert_ids_to_tokens(inputs[\"input_ids\"][0])\n",
        "    \n",
        "    # find the first location of the query term among those tokens (so we know which BERT rep to use)\n",
        "    term_idx=tokens.index(term)\n",
        "    \n",
        "    outputs = model(**inputs)\n",
        "\n",
        "    # return the BERT rep for that token index\n",
        "    # The output is a pytorch tensor object, but let's convert it to a numpy object to work with numpy functions\n",
        "    \n",
        "    return outputs.last_hidden_state[0][term_idx].detach().numpy()"
      ],
      "metadata": {
        "id": "oxMYA0cEPFSL"
      },
      "execution_count": 10,
      "outputs": []
    },
    {
      "cell_type": "markdown",
      "source": [
        "We'll start with some generic methods for reading the data our model will apply BIO tags to. We will be working with the 2003 CoNLL NER dataset [(Sang and Kim, 2003)](https://arxiv.org/pdf/cs/0306050v1.pdf)."
      ],
      "metadata": {
        "id": "hKbahhDcRxqY"
      }
    },
    {
      "cell_type": "code",
      "source": [
        "query=\"I ate some jam with toast\"\n",
        "\n",
        "query_rep=get_bert_for_token(query, \"jam\")\n",
        "# note the shape\n",
        "print(query_rep.shape)"
      ],
      "metadata": {
        "id": "vnN1opxnPIws",
        "outputId": "111363f2-dd68-4acd-e114-bc24211eba93",
        "colab": {
          "base_uri": "https://localhost:8080/"
        }
      },
      "execution_count": 11,
      "outputs": [
        {
          "output_type": "stream",
          "name": "stdout",
          "text": [
            "(768,)\n"
          ]
        }
      ]
    },
    {
      "cell_type": "markdown",
      "source": [
        "Now, let's write sentences using other forms of jam, like the [sense](https://www.oed.com/view/Entry/100679?rskey=v7CKhW&result=1#eid) that refers to \"preventing movements\" and then compare how closely their usage of the word jam matches our starter sentence (according to BERT).\n",
        "\n"
      ],
      "metadata": {
        "id": "wFlwVgJoPNNw"
      }
    },
    {
      "cell_type": "code",
      "source": [
        "comp_sents=[\"She got me out of a real jam\", \"This jam is made of strawberries\", \"I sat in a traffic jam for 2 hours\", \"The Grateful Dead used to jam for like two days straight.\", \"My grandma makes the best jam.\", \"I had to jam on the brakes to avoid hitting him.\"]"
      ],
      "metadata": {
        "id": "l7ukm7u2PUwS"
      },
      "execution_count": 12,
      "outputs": []
    },
    {
      "cell_type": "code",
      "source": [
        "vals=[]\n",
        "for sent in comp_sents:\n",
        "    comp_rep=get_bert_for_token(sent, \"jam\")\n",
        "    cos_sim=cosine_similarity(query_rep, comp_rep)\n",
        "    vals.append((cos_sim, query, sent))\n",
        "\n",
        "for c, q, s in reversed(sorted(vals)):\n",
        "    print(\"%.3f\\t%s\\t%s\" % (c, q, s))"
      ],
      "metadata": {
        "id": "V4W_reM6PXYh",
        "outputId": "22b7f826-4e5b-4528-8478-a90176d0957a",
        "colab": {
          "base_uri": "https://localhost:8080/"
        }
      },
      "execution_count": 13,
      "outputs": [
        {
          "output_type": "stream",
          "name": "stdout",
          "text": [
            "0.843\tI ate some jam with toast\tMy grandma makes the best jam.\n",
            "0.837\tI ate some jam with toast\tThis jam is made of strawberries\n",
            "0.736\tI ate some jam with toast\tThe Grateful Dead used to jam for like two days straight.\n",
            "0.665\tI ate some jam with toast\tI sat in a traffic jam for 2 hours\n",
            "0.658\tI ate some jam with toast\tShe got me out of a real jam\n",
            "0.636\tI ate some jam with toast\tI had to jam on the brakes to avoid hitting him.\n"
          ]
        }
      ]
    },
    {
      "cell_type": "markdown",
      "source": [
        "Now that we've explored how BERT tokenizes data firsthand, let's incorporate our learning task and see how a BERT model performs at tagging named entities in a given text.\n",
        "\n",
        "## Neural NER\n",
        "\n",
        "We'll start with some generic methods for reading the data our model will apply BIO tags to. We will be working with the 2003 CoNLL NER dataset [(Sang and Kim, 2003)](https://arxiv.org/pdf/cs/0306050v1.pdf)."
      ],
      "metadata": {
        "id": "b6LkNnZRPZ5-"
      }
    },
    {
      "cell_type": "code",
      "source": [
        "def read_labels(filename):\n",
        "\tlabels={}\n",
        "\twith open(filename) as file:\n",
        "\t\tfor line in file:\n",
        "\t\t\tcols=line.rstrip().split(\"\\t\")\n",
        "\t\t\tif len(cols) < 2:\n",
        "\t\t\t\tcontinue\n",
        "\t\t\tlabel=cols[1]\n",
        "\t\t\tif label not in labels:\n",
        "\t\t\t\tlabels[label]=len(labels)\n",
        "\t\n",
        "\treturn labels\n",
        "\n",
        "def read_data(filename, labels):\n",
        "\tsentences=[]\n",
        "\tsentence=[]\n",
        "\twith open(filename) as file:\n",
        "\t\tfor line in file:\n",
        "\t\t\tcols=line.rstrip().split(\"\\t\")\n",
        "\t\t\tif len(cols) < 2:\n",
        "\t\t\t\tif len(sentence) > 0:\n",
        "\t\t\t\t\tsentences.append(sentence)\n",
        "\t\t\t\t\tsentence=[]\n",
        "\n",
        "\t\t\telse:\n",
        "\t\t\t\ttoken=cols[0]\n",
        "\t\t\t\tassert cols[1] in labels\n",
        "\t\t\t\tlabel=labels[cols[1]]\n",
        "\t\t\t\tsentence.append((token, label))\n",
        "\t\n",
        "\tif len(sentence) > 0:\n",
        "\t\tsentences.append(sentence)\n",
        "\t\tsentence=[]\n",
        "\n",
        "\treturn sentences"
      ],
      "metadata": {
        "id": "tfKERBqQ1WhG"
      },
      "execution_count": 14,
      "outputs": []
    },
    {
      "cell_type": "code",
      "source": [
        "!wget https://raw.githubusercontent.com/dbamman/nlp22/main/HW5/data/train.txt\n",
        "!wget https://raw.githubusercontent.com/dbamman/nlp22/main/HW5/data/valid.txt\n",
        "!wget https://raw.githubusercontent.com/dbamman/nlp22/main/HW5/data/test.txt\n",
        "\n",
        "labels=read_labels(\"train.txt\")\n",
        "rev_labels={labels[key]:key for key in labels}\n",
        "\n",
        "train=read_data(\"train.txt\", labels)\n",
        "dev=read_data(\"valid.txt\", labels)\n",
        "test=read_data(\"test.txt\", labels)"
      ],
      "metadata": {
        "id": "Da7t9hICwLqC",
        "outputId": "ce035b3e-f1f6-42bc-bbc3-19abf821e55b",
        "colab": {
          "base_uri": "https://localhost:8080/"
        }
      },
      "execution_count": 15,
      "outputs": [
        {
          "output_type": "stream",
          "name": "stdout",
          "text": [
            "--2022-03-01 20:34:10--  https://raw.githubusercontent.com/dbamman/nlp22/main/HW5/data/train.txt\n",
            "Resolving raw.githubusercontent.com (raw.githubusercontent.com)... 185.199.109.133, 185.199.108.133, 185.199.110.133, ...\n",
            "Connecting to raw.githubusercontent.com (raw.githubusercontent.com)|185.199.109.133|:443... connected.\n",
            "HTTP request sent, awaiting response... 200 OK\n",
            "Length: 1683940 (1.6M) [text/plain]\n",
            "Saving to: ‘train.txt’\n",
            "\n",
            "train.txt           100%[===================>]   1.61M  --.-KB/s    in 0.05s   \n",
            "\n",
            "2022-03-01 20:34:10 (30.1 MB/s) - ‘train.txt’ saved [1683940/1683940]\n",
            "\n",
            "--2022-03-01 20:34:10--  https://raw.githubusercontent.com/dbamman/nlp22/main/HW5/data/valid.txt\n",
            "Resolving raw.githubusercontent.com (raw.githubusercontent.com)... 185.199.108.133, 185.199.109.133, 185.199.110.133, ...\n",
            "Connecting to raw.githubusercontent.com (raw.githubusercontent.com)|185.199.108.133|:443... connected.\n",
            "HTTP request sent, awaiting response... 200 OK\n",
            "Length: 423701 (414K) [text/plain]\n",
            "Saving to: ‘valid.txt’\n",
            "\n",
            "valid.txt           100%[===================>] 413.77K  --.-KB/s    in 0.03s   \n",
            "\n",
            "2022-03-01 20:34:11 (12.1 MB/s) - ‘valid.txt’ saved [423701/423701]\n",
            "\n",
            "--2022-03-01 20:34:11--  https://raw.githubusercontent.com/dbamman/nlp22/main/HW5/data/test.txt\n",
            "Resolving raw.githubusercontent.com (raw.githubusercontent.com)... 185.199.111.133, 185.199.110.133, 185.199.109.133, ...\n",
            "Connecting to raw.githubusercontent.com (raw.githubusercontent.com)|185.199.111.133|:443... connected.\n",
            "HTTP request sent, awaiting response... 200 OK\n",
            "Length: 383152 (374K) [text/plain]\n",
            "Saving to: ‘test.txt’\n",
            "\n",
            "test.txt            100%[===================>] 374.17K  --.-KB/s    in 0.03s   \n",
            "\n",
            "2022-03-01 20:34:11 (11.2 MB/s) - ‘test.txt’ saved [383152/383152]\n",
            "\n"
          ]
        }
      ]
    },
    {
      "cell_type": "markdown",
      "source": [
        "### BERTClassifier\n",
        "Then, let's write out a BERT classifier in Pytorch so you can see the model we'll be using for NER tagging."
      ],
      "metadata": {
        "id": "CLbdd491RXSZ"
      }
    },
    {
      "cell_type": "code",
      "source": [
        "class BERTClassifier(nn.Module):\n",
        "\n",
        "\tdef __init__(self, params):\n",
        "\t\tsuper().__init__()\n",
        "\n",
        "\t\tself.model_name=params[\"model_name\"]\n",
        "\t\tself.do_lower_case = params[\"doLowerCase\"]\n",
        "\n",
        "\t\tself.tokenizer = BertTokenizer.from_pretrained(self.model_name, do_lower_case=params[\"doLowerCase\"], do_basic_tokenize=False)\n",
        "\t\tself.bert = BertModel.from_pretrained(self.model_name)\n",
        "\t\n",
        "\t\tself.num_labels = params[\"label_length\"]\n",
        "\t\tself.fc = nn.Linear(params[\"embedding_size\"], self.num_labels)\n",
        "\t\n",
        "\t\tself.device=device\n",
        "\n",
        "\tdef get_batches(self, data, batch_size=32):\n",
        "\n",
        "\t\tbatches_original=[]\n",
        "\t\tbatches_x=[]\n",
        "\t\tbatches_y=[]\n",
        "\t\tbatches_attention=[]\n",
        "\t\t\n",
        "\t\tfor i in range(0, len(data), batch_size):\n",
        "\n",
        "\t\t\tcurrent_x=[]\n",
        "\t\t\tcurrent_y=[]\n",
        "\t\t\tcurrent_o=[]\n",
        "\n",
        "\t\t\tfor sentence in data[i:i+batch_size]:\n",
        "\t\t\t\twp_sentence=[self.tokenizer.convert_tokens_to_ids(\"[CLS]\")]\n",
        "\t\t\t\twp_labels=[-100]\n",
        "\n",
        "\t\t\t\tfor token, label in sentence:\n",
        "\n",
        "\t\t\t\t\tif self.do_lower_case:\n",
        "\t\t\t\t\t\ttoken=token.lower()\n",
        "\t\t\t\t\t\t\n",
        "\t\t\t\t\twp_tokens=self.tokenizer.convert_tokens_to_ids(self.tokenizer.tokenize(token))\n",
        "\t\t\t\t\twp_sentence.extend(wp_tokens)\n",
        "\t\t\t\t\twp_labels.append(label)\n",
        "\t\t\t\t\tfor wp_tok in wp_tokens[1:]:\n",
        "\t\t\t\t\t\twp_labels.append(-100)\n",
        "\n",
        "\t\t\t\t\twp_sentence.append(self.tokenizer.convert_tokens_to_ids(\"[SEP]\"))\n",
        "\t\t\t\t\twp_labels.append(-100)\n",
        "\n",
        "\t\t\t\tif len(wp_sentence) >= 512:\n",
        "\t\t\t\t\tprint(\"sentence is longer than BERT's 512 wp token max: %s\" % len(wp_sentence))\n",
        "\t\t\t\t\tsys.exit(1)\n",
        "\n",
        "\t\t\t\tcurrent_x.append(wp_sentence)\n",
        "\t\t\t\tcurrent_y.append(wp_labels)\n",
        "\t\t\t\t\n",
        "\t\t\t\twords=[x[0] for x in sentence]\n",
        "\t\t\t\tcurrent_o.append(words)\n",
        "\n",
        "\t\t\t# batch each sentence to the max size within that batch\n",
        "\t\t\tmax_len=max([len(x) for x in current_x])\n",
        "\t\t\tattention_mask=np.ones((len(current_x), max_len))\n",
        "\t\t\tfor idx in range(len(current_x)):\n",
        "\t\t\t\tfor i in range(len(current_x[idx]), max_len):\n",
        "\t\t\t\t\tcurrent_x[idx].append(0)\n",
        "\t\t\t\t\tcurrent_y[idx].append(-100)\n",
        "\t\t\t\t\tattention_mask[idx][i]=0\n",
        "\n",
        "\t\t\tbatches_original.append(current_o)\n",
        "\t\t\tbatches_x.append(torch.LongTensor(current_x))\n",
        "\t\t\tbatches_y.append(torch.LongTensor(current_y))\n",
        "\t\t\tbatches_attention.append(torch.LongTensor(attention_mask))\n",
        "\t\t\t\n",
        "\t\t# each sentence in each batch has:\n",
        "\t\t# -- word piece token ids (batches_x)\n",
        "\t\t# -- attention mask (noting which tokens are just padding)\n",
        "\t\t# -- NER labels (one per token\n",
        "\t\t# -- original (i.e., non-word piece) words\n",
        "\t\treturn batches_x, batches_attention, batches_y, batches_original\n",
        "  \n",
        "\n",
        "\tdef forward(self, input_ids, attention_mask): \n",
        "\t\n",
        "\t\tinput_ids=input_ids.to(self.device)\n",
        "\t\tattention_mask=attention_mask.to(self.device)\n",
        "\t\t\t\n",
        "\t\toutput = self.bert(input_ids=input_ids,\n",
        "\t\t\t\t\t\t attention_mask=attention_mask,\n",
        "\t\t\t\t\t\t output_hidden_states=True)\n",
        "\n",
        "\t\thidden_states=output[\"hidden_states\"]\n",
        "\t\tout=hidden_states[-1]\n",
        "\n",
        "\t\tlogits = self.fc(out)\n",
        "\n",
        "\t\treturn logits"
      ],
      "metadata": {
        "id": "HSqr6XJM2buH"
      },
      "execution_count": 16,
      "outputs": []
    },
    {
      "cell_type": "markdown",
      "source": [
        "### Using BERT for NER\n",
        "\n",
        "(Note: No deliverables are in this section; it's optional).\n",
        "\n",
        "These methods are good examples of how to train a language model for a task of your choosing and carry out predictions on unseen input.\n",
        "\n",
        "`train_and_evaluate` takes in various settings for a BERT model (like how large the embeddings should be, whether the model should lowercase all the inputs, etc.) instantiates a `BERTClassifier` and trains the model for our NER task. You'll see that it actually calls the `get_span_f1` method you are writing for this assignment. This provides a gauge for how well the model is performing NER. Also, this method will continually [save](https://pytorch.org/tutorials/beginner/saving_loading_models.html) whichever iteration of the model performed the best, and it ultimately returns that best model. \n",
        "\n",
        "`predict` generates predictions (applies BIO tags) to unseen data. For each sentence it tags, it returns the predicted BIO tag alongside the correct classification. \n"
      ],
      "metadata": {
        "id": "xGmeCa_gWKaC"
      }
    },
    {
      "cell_type": "code",
      "source": [
        "def train_and_evaluate(bert_model_name, model_filename, embedding_size, num_epochs, doLowerCase =None):\n",
        "\n",
        "  bert_model = BERTClassifier(params={\"doLowerCase\": doLowerCase, \"model_name\": bert_model_name, \"embedding_size\":embedding_size, \"label_length\": len(labels)})\n",
        "  bert_model.to(device)\n",
        "\n",
        "  train_batch_x, train_attention, train_batch_y, train_original = bert_model.get_batches(train)\n",
        "  dev_batch_x, dev_attention, dev_batch_y, dev_original = bert_model.get_batches(dev)\n",
        "\n",
        "  optimizer = torch.optim.Adam(bert_model.parameters(), lr=1e-5)\n",
        "  cross_entropy=nn.CrossEntropyLoss(ignore_index=-100)\n",
        "\n",
        "  bestF1 = 0.\n",
        "\n",
        "  for epoch in range(num_epochs):\n",
        "    print('Epoch', epoch + 1)\n",
        "    \n",
        "    # Train\n",
        "    bert_model.train()\n",
        "\n",
        "    for x, a, y in tqdm.notebook.tqdm(list(zip(train_batch_x, train_attention, train_batch_y))):\n",
        "      y=y.to(device)\n",
        "      y_pred = bert_model.forward(x, a)\n",
        "      loss = cross_entropy(y_pred.view(-1, bert_model.num_labels), y.view(-1))\n",
        "      optimizer.zero_grad()\n",
        "      loss.backward()\n",
        "      optimizer.step()\n",
        "    \n",
        "    # Evaluate\n",
        "    dev_predictions=predict(bert_model, dev_batch_x, dev_attention, dev_batch_y, dev_original)\n",
        "\n",
        "    f1=get_span_f1(dev_predictions)\n",
        "\n",
        "    print(\"span F1: %.3f\" % f1)\n",
        "    if f1 > bestF1:\n",
        "      print(\"%.3f is better than %.3f, saving ...\"  % (f1, bestF1))\n",
        "      torch.save(bert_model.state_dict(), model_filename)\n",
        "      bestF1 = f1\n",
        "\n",
        "  bert_model.load_state_dict(torch.load(model_filename))\n",
        "\n",
        "  return bert_model\n",
        "\n",
        "def predict(model, batch_x, attention, batch_y, original):\n",
        "    model.eval()\n",
        "    dev_predictions=[]\n",
        "    corrected_ill_formed=0\n",
        "\n",
        "    for x, a, y, o in zip(batch_x, attention, batch_y, original):\n",
        "      y=y.to(device)\n",
        "      y_pred = model.forward(x, a)\n",
        "      size=y_pred.shape\n",
        "      y_pred=y_pred.detach().cpu()\n",
        "\n",
        "      for sentence in range(size[0]):\n",
        "        sentence_preds=[]\n",
        "        o_indx=0\n",
        "        open_cat=None\n",
        "\n",
        "        # start at token index 1 to skip [CLS] token\n",
        "        for token in range(1,size[1]):\n",
        "          # ignore CLS, SEP, padding, and all but the first WP token (all marked with a label of -100)\n",
        "          if y[sentence][token] != -100:\n",
        "            pred=int(np.argmax(y_pred[sentence][token]))\n",
        "            true_label=rev_labels[int(y[sentence][token])]\n",
        "            pred_label=rev_labels[pred]\n",
        "\n",
        "            # if an I- label is not preceded by a B- label of the same category, change that I- to a B-.\n",
        "            label_parts=pred_label.split(\"-\")\n",
        "            if len(label_parts) == 2:\n",
        "              bio=label_parts[0]\n",
        "              cat=label_parts[1]\n",
        "\n",
        "              # other small corrections for ill-formed tokens\n",
        "              if bio == \"I\" and open_cat != cat:\n",
        "                pred_label=\"B-%s\" % cat\n",
        "                open_cat=cat\n",
        "\n",
        "              if bio == \"B\":\n",
        "                open_cat=cat\n",
        "            \n",
        "            sentence_preds.append((o[sentence][o_indx], pred_label, true_label))\n",
        "            o_indx+=1\n",
        "        dev_predictions.append(sentence_preds)\n",
        "      return dev_predictions"
      ],
      "metadata": {
        "id": "PCkMzLcezYUJ"
      },
      "execution_count": 17,
      "outputs": []
    },
    {
      "cell_type": "markdown",
      "source": [
        "Now, you'll work on two methods that will help us evaluate BERT's performance at NER.\n",
        "\n",
        "***"
      ],
      "metadata": {
        "id": "MGZQWIqgXqNB"
      }
    },
    {
      "cell_type": "markdown",
      "source": [
        "## Deliverable 1 - `get_spans()`\n",
        "\n",
        "As input, this method will take in a list of strings in BIO notation. The method should parse each relevant entity.\n",
        "\n",
        "As output, return the entities with their spand boundaries. \n",
        "\n",
        "See the assignment .pdf for a detailed explanation of BIO notation.\n",
        "\n",
        "Example input: `[\"O\", \"B-PER\", \"I-PER\", \"O\", \"B-PER\", \"B-LOC\", \"I-LOC\", \"I-LOC\", \"O\"]`\n",
        "\n",
        "Example output: `{ (1,2,PER), (4,4,PER), (5,7,LOC) }`"
      ],
      "metadata": {
        "id": "-TAlKcnD-7cP"
      }
    },
    {
      "cell_type": "code",
      "source": [
        "def get_spans(token_label_list):\n",
        "\t\"\"\"Return a set of the spans entailed by the BIO tags.\n",
        "\t\n",
        "\tArgs:\n",
        "\t\t\ttoken_label_list: a list of string BIO tags\n",
        "\n",
        "\tHints:\n",
        "\t- each string in the list can be split into its BIO tag (B, I, or O) and its category (if applicable)\n",
        "\t- every \"new\" entity starts with B.\n",
        "\t- the same entity can be entailed by multiple tags, and that entity terminates once another B or O tag appears. \n",
        "\t- use the spans dict to track where an entity begins, ends, and its category\n",
        "\t- an entity of span \"length\" 1 should have bounds like (2,2); \"length\" 2 should have bounds like (2,3), and so on\n",
        "\n",
        "\t\"\"\"\n",
        "\tspans={}\n",
        "\tstart=None\n",
        "\t\n",
        "\t# BEGIN SOLUTION \n",
        "\t\n",
        " \t# END SOLUTION"
      ],
      "metadata": {
        "id": "VbGevWPY4g-L"
      },
      "execution_count": null,
      "outputs": []
    },
    {
      "cell_type": "markdown",
      "source": [
        "## Deliverable 2 - `get_span_f1()`\n",
        "\n",
        "As input, this method will take in `predictions`, a list containing every sentence tagged by the model. The sentences themselves are lists of (token, predicted label, true label) triples. `predictions` could potentially hold hundreds of entries, since this method calculates the overall F1 score for our model. So be sure that your method works with more than single sentence inputted.\n",
        "\n",
        "As output, this method should return the overall F1 score (a decimal number) for the entire model.\n",
        "\n",
        "See the assignment .pdf for a detailed explanation of F1.\n",
        "\n",
        "Example input:\n",
        "\n",
        "```python\n",
        "predictions = []\n",
        "predictions.append([('Tim', 'B-PER', 'B-PER'), ('Cook', 'I-PER', 'I-PER'), ('is', 'O', 'O'), ('the', 'O', 'O'), ('CEO', 'O', 'O'), ('of', 'O', 'O'), ('Apple', 'O', 'B-ORG')])\n",
        "predictions.append([('He', 'O', 'O'), ('started', 'O', 'O'), ('in', 'O', 'O'), ('2011', 'O', 'O')])\n",
        "get_span_f1(predictions)\n",
        "```\n",
        "\n",
        "Example output: 0.667\n",
        "\n",
        "Why? We correctly identified 1 of the 2 true spans (recall of 1/2) and\n",
        "our 1 prediction was correct (precision of 1)."
      ],
      "metadata": {
        "id": "FxJ8n57u_Ckj"
      }
    },
    {
      "cell_type": "code",
      "source": [
        "def get_span_f1(predictions):\n",
        "\t\"\"\"Return span F1 Score for predicted BIO tags\n",
        "\t\t\t\n",
        "\t\t\tArgs:\n",
        "\t\t\t\t\tpredictions, a list of sentences w/ their BIO tag predictions (from the model) and gold standard labels\n",
        "\n",
        "\t\t\tHints:\n",
        "\t\t\t\t- every sentence contains a token with its predicted label and true label\n",
        "\t\t\t\t- recall that your get_spans method extracts spans from a list of BIO-tag labels\n",
        "\t\t\t\t- use set intersection to find the number of matches between the predicted spans and true spans\n",
        "\t\t\t\t- avoid division by 0!\n",
        "\t\t\t\t- this metric needs to be evaluated for the entire model, so only calculate precision, recall and then F1 once\n",
        "\n",
        "\t\"\"\"\n",
        "\n",
        "\t# BEGIN SOLUTION \n",
        "\n",
        "\t# END SOLUTION"
      ],
      "metadata": {
        "id": "TYK4zPpN4mm8"
      },
      "execution_count": null,
      "outputs": []
    },
    {
      "cell_type": "markdown",
      "source": [
        "\n",
        "## Further Exploration\n",
        "\n",
        "(Note: No deliverables are in this section; it's optional).\n",
        "\n",
        "To see how you can use your span F1 measure during training, call this to invoke the functions you wrote for deliverables 1 and 2. \n",
        "\n",
        "First, let's use a smaller version of BERT that sacrifices accuracy for speed of training, so you should see results within five minutes. Improvement should be rapid, and after 10 epochs your F1 should be around .6"
      ],
      "metadata": {
        "id": "knbF4fc16w_N"
      }
    },
    {
      "cell_type": "code",
      "source": [
        "# Bert Tiny - 2 layers, 128 dimensional embeddings, doLowerCase = True\n",
        "ner_f1_bert_tiny_uncased_model=train_and_evaluate(\"google/bert_uncased_L-2_H-128_A-2\", \"ner-f1-bert-tiny-uncased\", embedding_size=128, num_epochs = 10, doLowerCase=True)"
      ],
      "metadata": {
        "id": "DqfzTgrOPLX8"
      },
      "execution_count": null,
      "outputs": []
    },
    {
      "cell_type": "markdown",
      "source": [
        "We can use that trained model to make predictions about new sentences."
      ],
      "metadata": {
        "id": "slLJGhm_6dTb"
      }
    },
    {
      "cell_type": "code",
      "source": [
        "def analyze_sentence(model, sentence):\n",
        "\n",
        "  toks=nltk.word_tokenize(sentence)\n",
        "  input=[[(word, 0) for word in toks]]\n",
        "  predict_batch_x, predict_attention, predict_batch_y, predict_original=ner_f1_bert_tiny_uncased_model.get_batches(input)\n",
        "  dev_predictions=predict(model, predict_batch_x, predict_attention, predict_batch_y, predict_original)\n",
        "  for sent in dev_predictions:\n",
        "    for tok, pred, _ in sent:\n",
        "      print(tok, pred)"
      ],
      "metadata": {
        "id": "4pkpUT-yyumG"
      },
      "execution_count": null,
      "outputs": []
    },
    {
      "cell_type": "code",
      "source": [
        "analyze_sentence(ner_f1_bert_tiny_uncased_model, \"John is from Washington, DC\")"
      ],
      "metadata": {
        "id": "Go-SB93y6B0x"
      },
      "execution_count": null,
      "outputs": []
    },
    {
      "cell_type": "markdown",
      "source": [
        "### Model Improvements\n",
        "\n",
        "Google has released a number of smaller BERT models with fewer layers (2, 4, 6, 8, 10) and smaller dimensions (128, 256, 512) that effectively trade off accuracy for speed. For the prior portions of the assignment, we used a model with only 2 neural layers and an embedding size of 512. Plus, that model was uncased (so all text is lowercase).\n",
        "\n",
        "The size and parameters of model we use for this task will no doubt affect our performance. Try experimenting with a larger BERT model and see how much performance improves (relative, of course, to other important factors like learning time!). \n",
        "\n",
        "To use these models in the `transformers` library that we have been using, the correct name of the model can be derived from the URL linking to it:\n",
        "\n",
        "https://storage.googleapis.com/bert_models/2020_02_20/uncased_L-2_H-128_A-2.zip -> `google/bert_uncased_L-2_H-128_A-2`\n",
        "\n",
        "All of the smaller models are uncased (so all text is lowercase), so be sure to set `doLowerCase` to be true if needed. You'll also need to change the embedding_size parameter to this function based on the H value from the model (listed both on the BERT [Github page](https://github.com/google-research/bert#bert) and in the model's URL). One sample model is provided below.\n",
        "\n"
      ],
      "metadata": {
        "id": "QQyu3sVQJIX0"
      }
    },
    {
      "cell_type": "code",
      "source": [
        "# Bert Medium - 8 layers, 512 dimensional embeddings, doLowerCase = True\n",
        "ner_f1_bert_medium_uncased_model=train_and_evaluate(\"google/bert_uncased_L-8_H-512_A-8\", \"ner-f1-bert-medium-uncased\", embedding_size=512, num_epochs = 5, doLowerCase=True)"
      ],
      "metadata": {
        "id": "pVyls6mU0C9e"
      },
      "execution_count": null,
      "outputs": []
    },
    {
      "cell_type": "code",
      "source": [
        "# Bert BASE - 12 layers, 768 dimensional embeddings, doLowerCase = True\n",
        "# This is named differently because it is the \"standard\" BERT model (what we saw in lecture and is described in Devlin et al. 2019)\n",
        "ner_f1_bert_base_cased_model=train_and_evaluate(\"bert-base-cased\", \"ner-f1-bert-base-cased\", embedding_size=768, num_epochs = 5, doLowerCase=False)"
      ],
      "metadata": {
        "id": "61hinGbzxFyQ"
      },
      "execution_count": null,
      "outputs": []
    },
    {
      "cell_type": "code",
      "source": [
        "analyze_sentence(ner_f1_bert_base_cased_model, \"John is from Washington, DC\")"
      ],
      "metadata": {
        "id": "Vw2ufCbs6tFJ"
      },
      "execution_count": null,
      "outputs": []
    }
  ]
}